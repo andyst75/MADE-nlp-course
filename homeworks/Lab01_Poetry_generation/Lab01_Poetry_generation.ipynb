{
  "nbformat": 4,
  "nbformat_minor": 0,
  "metadata": {
    "anaconda-cloud": {},
    "kernelspec": {
      "display_name": "Python 3",
      "language": "python",
      "name": "python3"
    },
    "language_info": {
      "codemirror_mode": {
        "name": "ipython",
        "version": 3
      },
      "file_extension": ".py",
      "mimetype": "text/x-python",
      "name": "python",
      "nbconvert_exporter": "python",
      "pygments_lexer": "ipython3",
      "version": "3.7.10"
    },
    "colab": {
      "name": "Lab01_Poetry_generation.ipynb",
      "provenance": [],
      "toc_visible": true
    },
    "accelerator": "GPU"
  },
  "cells": [
    {
      "cell_type": "markdown",
      "metadata": {
        "id": "2xrgFIVuTgMy"
      },
      "source": [
        "## Lab 01. Poetry generation\n",
        "\n",
        "Let's try to generate some poetry using RNNs. \n",
        "\n",
        "You have several choices here: \n",
        "\n",
        "* The Shakespeare sonnets, file `sonnets.txt` available in the notebook directory.\n",
        "\n",
        "* Роман в стихах \"Евгений Онегин\" Александра Сергеевича Пушкина. В предобработанном виде доступен по [ссылке](https://github.com/attatrol/data_sources/blob/master/onegin.txt).\n",
        "\n",
        "* Some other text source, if it will be approved by the course staff.\n",
        "\n",
        "Text generation can be designed in several steps:\n",
        "    \n",
        "1. Data loading.\n",
        "2. Dictionary generation.\n",
        "3. Data preprocessing.\n",
        "4. Model (neural network) training.\n",
        "5. Text generation (model evaluation).\n"
      ]
    },
    {
      "cell_type": "code",
      "metadata": {
        "id": "_1tVIQqRTgM_"
      },
      "source": [
        "import string\n",
        "import os"
      ],
      "execution_count": 1,
      "outputs": []
    },
    {
      "cell_type": "markdown",
      "metadata": {
        "id": "GfJujUnxTgNA"
      },
      "source": [
        "### Data loading: Shakespeare"
      ]
    },
    {
      "cell_type": "markdown",
      "metadata": {
        "id": "w0B16e6cTgND"
      },
      "source": [
        "Shakespeare sonnets are awailable at this [link](http://www.gutenberg.org/ebooks/1041?msg=welcome_stranger). In addition, they are stored in the same directory as this notebook (`sonnetes.txt`). Simple preprocessing is already done for you in the next cell: all technical info is dropped."
      ]
    },
    {
      "cell_type": "code",
      "metadata": {
        "tags": [],
        "id": "e2dtWsMoTgNE"
      },
      "source": [
        "if not os.path.exists('sonnets.txt'):\n",
        "    !wget https://raw.githubusercontent.com/girafe-ai/ml-mipt/master/homeworks_basic/Lab2_DL/sonnets.txt\n",
        "\n",
        "with open('sonnets.txt', 'r') as iofile:\n",
        "    text = iofile.readlines()\n",
        "    \n",
        "TEXT_START = 45\n",
        "TEXT_END = -368\n",
        "text = text[TEXT_START : TEXT_END]\n",
        "assert len(text) == 2616"
      ],
      "execution_count": 2,
      "outputs": []
    },
    {
      "cell_type": "markdown",
      "metadata": {
        "id": "sxGgq0IfTgNE"
      },
      "source": [
        "In opposite to the in-class practice, this time we want to predict complex text. Let's reduce the complexity of the task and lowercase all the symbols.\n",
        "\n",
        "Now variable `text` is a list of strings. Join all the strings into one and lowercase it."
      ]
    },
    {
      "cell_type": "code",
      "metadata": {
        "colab": {
          "base_uri": "https://localhost:8080/"
        },
        "id": "L822395_TgNG",
        "outputId": "5f15d785-0e8e-457c-fc29-7bafdec06dd5"
      },
      "source": [
        "# Join all the strings into one and lowercase it\n",
        "# Put result into variable text.\n",
        "\n",
        "text = ''.join(text).lower()\n",
        "\n",
        "assert len(text) == 100225, 'Are you sure you have concatenated all the strings?'\n",
        "assert not any([x in set(text) for x in string.ascii_uppercase]), 'Uppercase letters are present'\n",
        "print('OK!')"
      ],
      "execution_count": 3,
      "outputs": [
        {
          "output_type": "stream",
          "text": [
            "OK!\n"
          ],
          "name": "stdout"
        }
      ]
    },
    {
      "cell_type": "markdown",
      "metadata": {
        "id": "VwKraBvsTgNJ"
      },
      "source": [
        "Put all the characters, that you've seen in the text, into variable `tokens`."
      ]
    },
    {
      "cell_type": "code",
      "metadata": {
        "id": "1OkAt7b8TgNK"
      },
      "source": [
        "tokens = sorted(set(text))"
      ],
      "execution_count": 4,
      "outputs": []
    },
    {
      "cell_type": "markdown",
      "metadata": {
        "id": "djyZnDqRTgNL"
      },
      "source": [
        "Create dictionary `token_to_idx = {<char>: <index>}` and dictionary `idx_to_token = {<index>: <char>}`"
      ]
    },
    {
      "cell_type": "code",
      "metadata": {
        "tags": [],
        "colab": {
          "base_uri": "https://localhost:8080/"
        },
        "id": "JddkvC7GTgNN",
        "outputId": "502cf459-a43c-400a-99ed-a73ee18b468f"
      },
      "source": [
        "# dict <index>:<char>\n",
        "token_to_idx = {c: idx for idx, c in enumerate(tokens)}\n",
        "\n",
        "# dict <char>:<index>\n",
        "idx_to_token  = {idx: c for idx, c in enumerate(tokens)}\n",
        "\n",
        "num_tokens = len(tokens)\n",
        "\n",
        "num_tokens, len(token_to_idx), len(idx_to_token)"
      ],
      "execution_count": 5,
      "outputs": [
        {
          "output_type": "execute_result",
          "data": {
            "text/plain": [
              "(38, 38, 38)"
            ]
          },
          "metadata": {
            "tags": []
          },
          "execution_count": 5
        }
      ]
    },
    {
      "cell_type": "markdown",
      "metadata": {
        "id": "5BoX7Ub_TgNT"
      },
      "source": [
        "*Comment: in this task we have only 38 different tokens, so let's use one-hot encoding.*"
      ]
    },
    {
      "cell_type": "markdown",
      "metadata": {
        "id": "y5KIm2wiTgNU"
      },
      "source": [
        "### Building the model"
      ]
    },
    {
      "cell_type": "markdown",
      "metadata": {
        "id": "WPjQfiOaTgNU"
      },
      "source": [
        "Now we want to build and train recurrent neural net which would be able to something similar to Shakespeare's poetry.\n",
        "\n",
        "Let's use vanilla RNN, similar to the one created during the lesson."
      ]
    },
    {
      "cell_type": "code",
      "metadata": {
        "tags": [],
        "colab": {
          "base_uri": "https://localhost:8080/"
        },
        "id": "V-h8AmMnTgNW",
        "outputId": "e617f7b1-0929-4628-93c1-218c96e4b41c"
      },
      "source": [
        "%reload_ext autoreload\n",
        "%autoreload 1\n",
        "%aimport utils\n",
        "\n",
        "from utils import *\n",
        "\n",
        "import torch\n",
        "import re\n",
        "import matplotlib.pyplot as plt\n",
        "%matplotlib inline\n",
        "\n",
        "# device = torch.device('cpu')\n",
        "device = torch.device('cuda') if torch.cuda.is_available() else torch.device('cpu')\n",
        "print(device)"
      ],
      "execution_count": 6,
      "outputs": [
        {
          "output_type": "stream",
          "text": [
            "cuda\n"
          ],
          "name": "stdout"
        }
      ]
    },
    {
      "cell_type": "code",
      "metadata": {
        "colab": {
          "base_uri": "https://localhost:8080/"
        },
        "id": "J-PIAZm2TgNX",
        "outputId": "9fff2618-ec2c-4d6e-d0af-c99018f379f5"
      },
      "source": [
        "def parse_shakespeare(texts):\n",
        "    \"\"\"Parses sonnet lines\"\"\"\n",
        "    sonnets = []\n",
        "    sonnet_lines = []\n",
        "    for line in texts.split('\\n'):\n",
        "        if len(line.strip()) < 7: # ignore short lines\n",
        "            if len(sonnet_lines):\n",
        "                sonnets.append(''.join(sonnet_lines))\n",
        "                sonnet_lines = []\n",
        "        else:\n",
        "            line = line.lower().replace('  ', ' ').replace('  ', ' ') # remove duplicate spaces\n",
        "            sonnet_lines.append(line + '\\n')\n",
        "    if sonnet_lines: # Last sonnet\n",
        "        sonnets.append(''.join(sonnet_lines))\n",
        "        \n",
        "    return sonnets\n",
        "parse_shakespeare(text)[:3]"
      ],
      "execution_count": 7,
      "outputs": [
        {
          "output_type": "execute_result",
          "data": {
            "text/plain": [
              "[\" from fairest creatures we desire increase,\\n that thereby beauty's rose might never die,\\n but as the riper should by time decease,\\n his tender heir might bear his memory:\\n but thou, contracted to thine own bright eyes,\\n feed'st thy light's flame with self-substantial fuel,\\n making a famine where abundance lies,\\n thy self thy foe, to thy sweet self too cruel:\\n thou that art now the world's fresh ornament,\\n and only herald to the gaudy spring,\\n within thine own bud buriest thy content,\\n and tender churl mak'st waste in niggarding:\\n pity the world, or else this glutton be,\\n to eat the world's due, by the grave and thee.\\n\",\n",
              " \" when forty winters shall besiege thy brow,\\n and dig deep trenches in thy beauty's field,\\n thy youth's proud livery so gazed on now,\\n will be a tatter'd weed of small worth held:\\n then being asked, where all thy beauty lies,\\n where all the treasure of thy lusty days;\\n to say, within thine own deep sunken eyes,\\n were an all-eating shame, and thriftless praise.\\n how much more praise deserv'd thy beauty's use,\\n if thou couldst answer 'this fair child of mine\\n shall sum my count, and make my old excuse,'\\n proving his beauty by succession thine!\\n this were to be new made when thou art old,\\n and see thy blood warm when thou feel'st it cold.\\n\",\n",
              " \" look in thy glass and tell the face thou viewest\\n now is the time that face should form another;\\n whose fresh repair if now thou not renewest,\\n thou dost beguile the world, unbless some mother.\\n for where is she so fair whose unear'd womb\\n disdains the tillage of thy husbandry?\\n or who is he so fond will be the tomb,\\n of his self-love to stop posterity?\\n thou art thy mother's glass and she in thee\\n calls back the lovely april of her prime;\\n so thou through windows of thine age shalt see,\\n despite of wrinkles this thy golden time.\\n but if thou live, remember'd not to be,\\n die single and thine image dies with thee.\\n\"]"
            ]
          },
          "metadata": {
            "tags": []
          },
          "execution_count": 7
        }
      ]
    },
    {
      "cell_type": "code",
      "metadata": {
        "colab": {
          "base_uri": "https://localhost:8080/"
        },
        "id": "eLS9qQroTgNZ",
        "outputId": "38edc35e-578c-4d38-9444-08fd52137c54"
      },
      "source": [
        "MAX_SONNET_LENGTH = max([len(sonnet) for sonnet in parse_shakespeare(text)])\n",
        "print(f'Max length of sonnet is {MAX_SONNET_LENGTH} symbols')"
      ],
      "execution_count": 8,
      "outputs": [
        {
          "output_type": "stream",
          "text": [
            "Max length of sonnet is 691 symbols\n"
          ],
          "name": "stdout"
        }
      ]
    },
    {
      "cell_type": "code",
      "metadata": {
        "id": "ltVccnm1TgNb"
      },
      "source": [
        "class CharRNN(nn.Module):\n",
        "    def __init__(self, num_tokens=32, emb_size=16, rnn_num_units=32):\n",
        "        super(self.__class__, self).__init__()\n",
        "        \n",
        "        self.emb = nn.Embedding(num_tokens + 1, emb_size, padding_idx=num_tokens)\n",
        "        self.rnn = nn.RNN(emb_size, rnn_num_units, batch_first=True)\n",
        "        self.hid_to_logits = nn.Linear(rnn_num_units, num_tokens)\n",
        "        \n",
        "    def forward(self, x, hidden=None):\n",
        "        if hidden is not None:\n",
        "            h_seq, hidden = self.rnn(self.emb(x), hidden)\n",
        "            next_logits = self.hid_to_logits(h_seq)\n",
        "            return next_logits, hidden\n",
        "        else:\n",
        "            h_seq, _ = self.rnn(self.emb(x))\n",
        "            next_logits = self.hid_to_logits(h_seq)\n",
        "            return next_logits"
      ],
      "execution_count": 9,
      "outputs": []
    },
    {
      "cell_type": "code",
      "metadata": {
        "tags": [],
        "colab": {
          "base_uri": "https://localhost:8080/",
          "height": 283
        },
        "id": "I8F15QyzTgNe",
        "outputId": "fbc854c6-bb8e-4c34-854f-f14473a4fceb"
      },
      "source": [
        "lr = 1e-3\n",
        "char_rnn = CharRNN(num_tokens=num_tokens, emb_size=MAX_SONNET_LENGTH, rnn_num_units=384).to(device)\n",
        "trainable_params = [param for param in char_rnn.parameters() if param.requires_grad]\n",
        "opt = torch.optim.Adam(trainable_params, lr=lr)\n",
        "lr_scheduler = None\n",
        "\n",
        "criterion = nn.CrossEntropyLoss(ignore_index=num_tokens + 1)\n",
        "\n",
        "rnn_generate = TextGenerate(token_to_idx, idx_to_token, device)\n",
        "loss_rnn = rnn_generate.train_model(char_rnn, opt, lr_scheduler, criterion, parse_shakespeare(text), n_iter=2_500)\n",
        "print('Loss =', loss_rnn)"
      ],
      "execution_count": 10,
      "outputs": [
        {
          "output_type": "display_data",
          "data": {
            "image/png": "[encoded data removed]",
            "text/plain": [
              "<Figure size 432x288 with 1 Axes>"
            ]
          },
          "metadata": {
            "tags": [],
            "needs_background": "light"
          }
        },
        {
          "output_type": "stream",
          "text": [
            "Loss = 0.10539869\n"
          ],
          "name": "stdout"
        }
      ]
    },
    {
      "cell_type": "code",
      "metadata": {
        "colab": {
          "base_uri": "https://localhost:8080/"
        },
        "id": "RDEWyXaDTgNf",
        "outputId": "15fec7d6-070e-45b5-dfff-aa5c658a71a5"
      },
      "source": [
        "for temperature in [0.1, 0.2, 0.5, 1.0, 2.0]:\n",
        "    text_out = re.sub('[\\n]+', '\\n', rnn_generate.generate_sample(char_rnn, ' ', 200, temperature))\n",
        "    print(f\"temperature {temperature}:\\n\", text_out + ('' if text_out[-1] == '\\n' else '\\n'))\n",
        "print()"
      ],
      "execution_count": 11,
      "outputs": [
        {
          "output_type": "stream",
          "text": [
            "temperature 0.1:\n",
            "  then hate on, for now i have noted, and lascivious comments on thy special and bright of prais'd,\n",
            " as physing me, the earth can no pine others, being your vireful you take away,\n",
            " death's second seaut\n",
            "\n",
            "temperature 0.2:\n",
            "  then hate me when thou wilt; if ever, now;\n",
            " now, while the world is bent my deeds to cross,\n",
            " beauty with warragge is pleasure be it not say\n",
            " to ling, and tenors should i am not, if thou wouldst conve\n",
            "\n",
            "temperature 0.5:\n",
            "  let me not to the hasted, and like no more heaven itself for love, though muse, and oldremoting still,\n",
            " to show lends to them against thy sight?\n",
            " or what gift, that my adder's summer shall not false \n",
            "\n",
            "temperature 1.0:\n",
            "  when i have seen darms olvence,\n",
            " without thy might to me,\n",
            " riche and out to make me love have is plain\n",
            " from their knowly thee.\n",
            " but do not love's said bitter imoffess it given the star!\n",
            " against thi\n",
            "\n",
            "temperature 2.0:\n",
            "  what, you bearing titne, it revenunt infet\n",
            " when fire for i most fig\n",
            " aht war now call im childrening morh, prinkle gone ho age proud-pue,\n",
            " other; in flowers, and 'will'.\n",
            " if i from my deared:\n",
            " use r\n",
            "\n",
            "\n"
          ],
          "name": "stdout"
        }
      ]
    },
    {
      "cell_type": "markdown",
      "metadata": {
        "id": "EhK_PJivTgNi"
      },
      "source": [
        "### More poetic model\n",
        "\n",
        "Let's use LSTM instead of vanilla RNN and compare the results."
      ]
    },
    {
      "cell_type": "markdown",
      "metadata": {
        "id": "KU9QKimZTgNj"
      },
      "source": [
        "Plot the loss function of the number of epochs. Does the final loss become better?"
      ]
    },
    {
      "cell_type": "code",
      "metadata": {
        "id": "DuMO4EznTgNk"
      },
      "source": [
        "class CharLSTM(nn.Module):\n",
        "    def __init__(self, num_tokens=32, emb_size=64, num_units=64, num_layers=2, dropout=0.):\n",
        "        super(self.__class__, self).__init__()\n",
        "        \n",
        "        self.emb = nn.Embedding(num_tokens, emb_size)\n",
        "        self.lstm = nn.LSTM(emb_size, num_units, batch_first=True, num_layers=num_layers, dropout=dropout)\n",
        "        self.hid_to_logits = nn.Linear(num_units, num_tokens)\n",
        "        \n",
        "    def forward(self, x, hidden=None):\n",
        "        if hidden is not None:\n",
        "            h_seq, hidden = self.lstm(self.emb(x), hidden)\n",
        "            next_logits = self.hid_to_logits(h_seq)\n",
        "            return next_logits, hidden\n",
        "        else:\n",
        "            h_seq, _ = self.lstm(self.emb(x))\n",
        "            next_logits = self.hid_to_logits(h_seq)\n",
        "            return next_logits"
      ],
      "execution_count": 12,
      "outputs": []
    },
    {
      "cell_type": "code",
      "metadata": {
        "colab": {
          "base_uri": "https://localhost:8080/",
          "height": 283
        },
        "id": "TpTaqGj9TgNl",
        "outputId": "e46f60fb-114f-448a-d954-b228c07bfcb3"
      },
      "source": [
        "lr = 1e-3\n",
        "char_lstm = CharLSTM(num_tokens=num_tokens, emb_size=MAX_SONNET_LENGTH, num_units=384, dropout=0.05).to(device)\n",
        "trainable_params = [param for param in char_lstm.parameters() if param.requires_grad]\n",
        "opt = torch.optim.Adam(trainable_params, lr=lr)\n",
        "lr_scheduler = None\n",
        "\n",
        "criterion = nn.CrossEntropyLoss(ignore_index=num_tokens + 1)\n",
        "\n",
        "lstm_generate = TextGenerate(token_to_idx, idx_to_token, device)\n",
        "loss_lstm = lstm_generate.train_model(char_lstm, opt, lr_scheduler, criterion, parse_shakespeare(text), n_iter=1_500)\n",
        "print('Loss =', loss_rnn)"
      ],
      "execution_count": 13,
      "outputs": [
        {
          "output_type": "display_data",
          "data": {
            "image/png": "[encoded data removed]",
            "text/plain": [
              "<Figure size 432x288 with 1 Axes>"
            ]
          },
          "metadata": {
            "tags": [],
            "needs_background": "light"
          }
        },
        {
          "output_type": "stream",
          "text": [
            "Loss = 0.10539869\n"
          ],
          "name": "stdout"
        }
      ]
    },
    {
      "cell_type": "markdown",
      "metadata": {
        "id": "DaLOo5YITgNn"
      },
      "source": [
        "Generate text using the trained net with different `temperature` parameter: `[0.1, 0.2, 0.5, 1.0, 2.0]`.\n",
        "\n",
        "Evaluate the results visually, try to interpret them."
      ]
    },
    {
      "cell_type": "code",
      "metadata": {
        "colab": {
          "base_uri": "https://localhost:8080/"
        },
        "id": "4apYJCfiTgNp",
        "outputId": "4f0163c3-85be-4b2c-be9e-1f8e52784b7e"
      },
      "source": [
        "# Text generation with different temperature values here\n",
        "for temperature in [0.1, 0.2, 0.5, 1.0, 2.0]:\n",
        "    text_out = re.sub('[\\n]+', '\\n', lstm_generate.generate_sample(char_rnn, ' ', 500, temperature))\n",
        "    print(f\"temperature {temperature}:\\n\", text_out + ('' if text_out[-1] == '\\n' else '\\n'))\n",
        "print()"
      ],
      "execution_count": 14,
      "outputs": [
        {
          "output_type": "stream",
          "text": [
            "temperature 0.1:\n",
            "  then let not winter's ragged hand deface,\n",
            " in thee thy summer's sall.\n",
            "\n",
            "temperature 0.2:\n",
            "  when to the sessions of sweet silent thought\n",
            " i summon up remembrance of things past,\n",
            " i sigh the lack of many a thing i sought,\n",
            " and with old woes not bore bravely gay,\n",
            " with you,\n",
            " my life hath shows, and steal thy sweet his spite to this shamef receives rain still,\n",
            " and i peisune others, thought but destifly live in this,\n",
            " upon that which thy praises heart with weary travell o'ersways him with full grown'd?\n",
            " o! thou art from my love's sweet face shower with baway,\n",
            " to thy fair of such morem d\n",
            "\n",
            "temperature 0.5:\n",
            "  thy glass will shine by their brow,\n",
            " i see thee to thine eyes but leave me with single world ourseans the steel siggar perfection but a life remain,\n",
            " but besides way, my name be true despite thy sweet self to be i'll fulfil thy hunding tomb.\n",
            " then we purge;\n",
            " to the love wastes of time me thy love, thou my love receivest,\n",
            " i cannot blame thee, for my love thou usest, with his,\n",
            " and under thees.\n",
            "\n",
            "temperature 1.0:\n",
            "  o! for my sake do you with fortune chide,\n",
            " to be a subject that before was but off wetterms gifts his rich, whilst it was build\n",
            " his beauties where!\n",
            " when i will be time, but i do doing of this rank day livity gentle closing thoughts of fempel then mend\n",
            " her pretty lorty, that music to feart's looks on thee, thou memoryen itself kind,\n",
            " or state,\n",
            " and thou shall stand reparritic and she be not mare, against sinful worth devounded change your mind:\n",
            " a maid 'gainst my self away,\n",
            " why dost most hou\n",
            "\n",
            "temperature 2.0:\n",
            "  how is any of his lisg hish ant, luch, than your counteous lises lig..\n",
            "\n",
            "\n"
          ],
          "name": "stdout"
        }
      ]
    },
    {
      "cell_type": "markdown",
      "metadata": {
        "id": "rSgOeBaHTgNq"
      },
      "source": [
        "### Saving and loading models"
      ]
    },
    {
      "cell_type": "markdown",
      "metadata": {
        "id": "i05Ah-mOTgNq"
      },
      "source": [
        "Save the model to the disk, then load it and generate text. Examples are available [here](https://pytorch.org/tutorials/beginner/saving_loading_models.html])."
      ]
    },
    {
      "cell_type": "code",
      "metadata": {
        "colab": {
          "base_uri": "https://localhost:8080/"
        },
        "id": "xWjPozifTgNr",
        "outputId": "d3e3df53-8410-42fb-f50d-0c5dc21ebec3"
      },
      "source": [
        "# Saving and loading code here\n",
        "model_path = 'char_lstm.pth'\n",
        "torch.save(char_lstm.state_dict(), model_path)\n",
        "\n",
        "model = CharLSTM(num_tokens=num_tokens, emb_size=MAX_SONNET_LENGTH, num_units=384, dropout=0.1)\n",
        "model.load_state_dict(torch.load(model_path))\n",
        "model.to(device)\n",
        "\n",
        "print(re.sub('[\\n]+', '\\n', lstm_generate.generate_sample(model, ' from', 160, 1.)))"
      ],
      "execution_count": 15,
      "outputs": [
        {
          "output_type": "stream",
          "text": [
            " from fairest creatures we desire increase,\n",
            " that thereby beauty's rose might never die,\n",
            " but as the riper should by time decease,\n",
            " his tender his with moretned\n"
          ],
          "name": "stdout"
        }
      ]
    },
    {
      "cell_type": "markdown",
      "metadata": {
        "id": "WBSeFdGHTgNr"
      },
      "source": [
        "### Data loading: \"Евгений Онегин\""
      ]
    },
    {
      "cell_type": "code",
      "metadata": {
        "colab": {
          "base_uri": "https://localhost:8080/"
        },
        "id": "aloMliIsTgNs",
        "outputId": "f0ffd81c-cbb1-448e-a25b-8b457035957e"
      },
      "source": [
        "if not os.path.exists('onegin.txt'):\n",
        "    !wget https://raw.githubusercontent.com/attatrol/data_sources/master/onegin.txt\n",
        "\n",
        "with open('onegin.txt', 'r') as iofile:\n",
        "    text = iofile.readlines()\n",
        "    \n",
        "text = [x.replace('\\t\\t', '') for x in text]"
      ],
      "execution_count": 16,
      "outputs": [
        {
          "output_type": "stream",
          "text": [
            "--2021-04-22 06:52:46--  https://raw.githubusercontent.com/attatrol/data_sources/master/onegin.txt\n",
            "Resolving raw.githubusercontent.com (raw.githubusercontent.com)... 185.199.108.133, 185.199.109.133, 185.199.110.133, ...\n",
            "Connecting to raw.githubusercontent.com (raw.githubusercontent.com)|185.199.108.133|:443... connected.\n",
            "HTTP request sent, awaiting response... 200 OK\n",
            "Length: 262521 (256K) [text/plain]\n",
            "Saving to: ‘onegin.txt’\n",
            "\n",
            "onegin.txt          100%[===================>] 256.37K  --.-KB/s    in 0.02s   \n",
            "\n",
            "2021-04-22 06:52:46 (13.1 MB/s) - ‘onegin.txt’ saved [262521/262521]\n",
            "\n"
          ],
          "name": "stdout"
        }
      ]
    },
    {
      "cell_type": "markdown",
      "metadata": {
        "id": "IoYqHg23TgNs"
      },
      "source": [
        "In opposite to the in-class practice, this time we want to predict complex text. Let's reduce the complexity of the task and lowercase all the symbols.\n",
        "\n",
        "Now variable `text` is a list of strings. Join all the strings into one and lowercase it."
      ]
    },
    {
      "cell_type": "code",
      "metadata": {
        "colab": {
          "base_uri": "https://localhost:8080/"
        },
        "id": "gPadSVxBTgNs",
        "outputId": "babf9925-4776-485b-e6a4-e9d96c49c8fc"
      },
      "source": [
        "text = ''.join(text).lower()\n",
        "\n",
        "tokens = sorted(set(text))\n",
        "token_to_idx = {c: idx for idx, c in enumerate(tokens)}\n",
        "idx_to_token  = {idx: c for idx, c in enumerate(tokens)}\n",
        "num_tokens = len(tokens)\n",
        "\n",
        "num_tokens, len(token_to_idx), len(idx_to_token)"
      ],
      "execution_count": 17,
      "outputs": [
        {
          "output_type": "execute_result",
          "data": {
            "text/plain": [
              "(83, 83, 83)"
            ]
          },
          "metadata": {
            "tags": []
          },
          "execution_count": 17
        }
      ]
    },
    {
      "cell_type": "code",
      "metadata": {
        "colab": {
          "base_uri": "https://localhost:8080/"
        },
        "id": "Jgr6-32ZTgNu",
        "outputId": "5f9635b5-475c-4658-fb2f-6af70c110ce1"
      },
      "source": [
        "text.split('\\n')[:6]"
      ],
      "execution_count": 18,
      "outputs": [
        {
          "output_type": "execute_result",
          "data": {
            "text/plain": [
              "['',\n",
              " 'i',\n",
              " '',\n",
              " '«мой дядя самых честных правил,',\n",
              " 'когда не в шутку занемог,',\n",
              " 'он уважать себя заставил']"
            ]
          },
          "metadata": {
            "tags": []
          },
          "execution_count": 18
        }
      ]
    },
    {
      "cell_type": "code",
      "metadata": {
        "colab": {
          "base_uri": "https://localhost:8080/"
        },
        "id": "ClOBt5TbTgNu",
        "outputId": "ba305a9d-2db8-4c36-acd6-40f1e18709ae"
      },
      "source": [
        "def parse_onegin(texts):\n",
        "    \"\"\"Parses Onegin lines\"\"\"\n",
        "    sonnets = []\n",
        "    sonnet_lines = []\n",
        "    for line in texts.split('\\n'):\n",
        "        if len(line.strip()) < 7: # ignore short lines\n",
        "            if len(sonnet_lines):\n",
        "                sonnets.append(''.join(sonnet_lines))\n",
        "                sonnet_lines = []\n",
        "        else:\n",
        "            line = line.lower().replace('  ', ' ').replace('  ', ' ') # remove duplicate spaces\n",
        "            sonnet_lines.append(line + '\\n')\n",
        "    if sonnet_lines: # Last sonnet\n",
        "        sonnets.append(''.join(sonnet_lines))\n",
        "        \n",
        "    return sonnets\n",
        "parse_onegin(text)[:3]"
      ],
      "execution_count": 19,
      "outputs": [
        {
          "output_type": "execute_result",
          "data": {
            "text/plain": [
              "['«мой дядя самых честных правил,\\nкогда не в шутку занемог,\\nон уважать себя заставил\\nи лучше выдумать не мог.\\nего пример другим наука;\\nно, боже мой, какая скука\\nс больным сидеть и день и ночь,\\nне отходя ни шагу прочь!\\nкакое низкое коварство\\nполуживого забавлять,\\nему подушки поправлять,\\nпечально подносить лекарство,\\nвздыхать и думать про себя:\\nкогда же черт возьмет тебя!»\\n',\n",
              " 'так думал молодой повеса,\\nлетя в пыли на почтовых,\\nвсевышней волею зевеса\\nнаследник всех своих родных. —\\nдрузья людмилы и руслана!\\nс героем моего романа\\nбез предисловий, сей же час\\nпозвольте познакомить вас:\\nонегин, добрый мой приятель,\\nродился на брегах невы,\\nгде, может быть, родились вы\\nили блистали, мой читатель;\\nтам некогда гулял и я:\\nно вреден север для меня\\n',\n",
              " 'служив отлично-благородно,\\nдолгами жил его отец,\\nдавал три бала ежегодно\\nи промотался наконец.\\nсудьба евгения хранила:\\nсперва madame за ним ходила,\\nпотом monsieur ее сменил;\\nребенок был резов, но мил.\\nmonsieur l’abbe€, француз убогой,\\nчтоб не измучилось дитя,\\nучил его всему шутя,\\nне докучал моралью строгой,\\nслегка за шалости бранил\\nи в летний сад гулять водил.\\n']"
            ]
          },
          "metadata": {
            "tags": []
          },
          "execution_count": 19
        }
      ]
    },
    {
      "cell_type": "code",
      "metadata": {
        "colab": {
          "base_uri": "https://localhost:8080/"
        },
        "id": "rUeAmAxwTgNu",
        "outputId": "fa8cda9f-19f9-4e41-8c25-f756195dd1de"
      },
      "source": [
        "MAX_TEXT_LENGTH = max([len(sonnet) for sonnet in parse_onegin(text)])\n",
        "print(f'Max length of text is {MAX_TEXT_LENGTH} symbols')"
      ],
      "execution_count": 20,
      "outputs": [
        {
          "output_type": "stream",
          "text": [
            "Max length of text is 1509 symbols\n"
          ],
          "name": "stdout"
        }
      ]
    },
    {
      "cell_type": "code",
      "metadata": {
        "colab": {
          "base_uri": "https://localhost:8080/",
          "height": 283
        },
        "id": "gwgMpAZ_TgNv",
        "outputId": "a496c6a7-407e-4658-d6a1-d8f61df51cef"
      },
      "source": [
        "lr = 1e-2\n",
        "char_lstm = CharLSTM(num_tokens=num_tokens, emb_size=MAX_TEXT_LENGTH, num_units=384, dropout=0.05).to(device)\n",
        "trainable_params = [param for param in char_lstm.parameters() if param.requires_grad]\n",
        "opt = torch.optim.Adam(trainable_params, lr=lr)\n",
        "lr_scheduler = torch.optim.lr_scheduler.StepLR(opt, 200, gamma=0.3)\n",
        "\n",
        "criterion = nn.CrossEntropyLoss(ignore_index=num_tokens + 1)\n",
        "\n",
        "lstm_generate = TextGenerate(token_to_idx, idx_to_token, device)\n",
        "loss_lstm = lstm_generate.train_model(char_lstm, opt, lr_scheduler, criterion, parse_onegin(text), n_iter=1_500)\n",
        "print('Loss =', loss_lstm)"
      ],
      "execution_count": 21,
      "outputs": [
        {
          "output_type": "display_data",
          "data": {
            "image/png": "[encoded data removed]",
            "text/plain": [
              "<Figure size 432x288 with 1 Axes>"
            ]
          },
          "metadata": {
            "tags": [],
            "needs_background": "light"
          }
        },
        {
          "output_type": "stream",
          "text": [
            "Loss = 0.33529666\n"
          ],
          "name": "stdout"
        }
      ]
    },
    {
      "cell_type": "code",
      "metadata": {
        "colab": {
          "base_uri": "https://localhost:8080/"
        },
        "id": "6mV3tcMITgNw",
        "outputId": "000b8a63-aa88-4a3c-e6ef-4e6edd20ef92"
      },
      "source": [
        "print(lstm_generate.generate_sample(char_lstm, ' ', 400, 0.2).strip())"
      ],
      "execution_count": 22,
      "outputs": [
        {
          "output_type": "stream",
          "text": [
            "ней не приветает,\n",
            "и в сердце приятно в самом дела,\n",
            "привычка молодой страстью свет.\n"
          ],
          "name": "stdout"
        }
      ]
    },
    {
      "cell_type": "code",
      "metadata": {
        "colab": {
          "base_uri": "https://localhost:8080/"
        },
        "id": "Gh9gQKWjTgNw",
        "outputId": "7a77ad11-1070-44a5-a77e-01985703285c"
      },
      "source": [
        "print(lstm_generate.generate_sample(char_lstm, ' ', 400, 0.3).strip())"
      ],
      "execution_count": 23,
      "outputs": [
        {
          "output_type": "stream",
          "text": [
            "внеминный простой\n",
            "не мог не преданный сон.\n",
            "то всё бедный снова за столом\n",
            "своей слез и вольности подоброй\n",
            "не славал он показалась лет.\n"
          ],
          "name": "stdout"
        }
      ]
    },
    {
      "cell_type": "code",
      "metadata": {
        "colab": {
          "base_uri": "https://localhost:8080/"
        },
        "id": "iTNzEzcwTgNx",
        "outputId": "34518763-d46e-4f78-fbc1-102b69b0a8ce"
      },
      "source": [
        "print(lstm_generate.generate_sample(char_lstm, ' ', 400, 0.5).strip())"
      ],
      "execution_count": 24,
      "outputs": [
        {
          "output_type": "stream",
          "text": [
            "нет она всех нет;\n",
            "достину всех науки,\n",
            "и в сердце труда татьяна своей;\n",
            "под ним не приветель умел;\n",
            "кресто отворить не всех суне\n",
            "и, хотя не приветель,\n",
            "рассказал толка слова, никогда?\n",
            "накак сердца поэты законец\n",
            "к томный уголковать соседа\n",
            "меня весель она в санях,\n",
            "он от садите на была.\n",
            "как в сердце при вы следаньем,\n",
            "и славы не вступленьем дорог\n",
            "и как матерь отом уж света\n",
            "при в ней оставился без верной\n"
          ],
          "name": "stdout"
        }
      ]
    },
    {
      "cell_type": "code",
      "metadata": {
        "colab": {
          "base_uri": "https://localhost:8080/"
        },
        "id": "tz_2We_7TgNy",
        "outputId": "80c19a55-e370-48da-df13-c754c2cbd18c"
      },
      "source": [
        "print(lstm_generate.generate_sample(char_lstm, ' ', 400, 1.0).strip())"
      ],
      "execution_count": 25,
      "outputs": [
        {
          "output_type": "stream",
          "text": [
            "в собнызка брещной,\n",
            "что но делствую бежало,\n",
            "луна, сквозь горятке труда\n",
            "мне непришла девницской молоды,\n",
            "болных раздавых, значирм\n",
            "и лета пора за находа\n",
            "шужит ленский молюду\n",
            "личиком одно. но я?),\n",
            "– тамать им вновь ее ле пополной\n",
            "полез книке льчатый сам,\n",
            "туду, бежать люди: евгений,\n",
            "хранит прелосить давничы:\n",
            "всё вам ра сенима в мояр,\n",
            "матьмари был и еесну, —\n",
            "котер ее серде ей!..\n",
            "друг счастьем послу; зн\n"
          ],
          "name": "stdout"
        }
      ]
    },
    {
      "cell_type": "markdown",
      "metadata": {
        "id": "3YZMEXW8TgNy"
      },
      "source": [
        "### Факультативно\n",
        "Возьмем в качестве обучающей выборки стихи Осипа Мандельштама"
      ]
    },
    {
      "cell_type": "code",
      "metadata": {
        "colab": {
          "base_uri": "https://localhost:8080/"
        },
        "id": "ti1kxYaKTgNz",
        "outputId": "27d1396c-96db-4733-a451-9511f3f5c4db"
      },
      "source": [
        "with open('mandelshtam.txt', 'r') as iofile:\n",
        "    text = iofile.readlines()\n",
        "\n",
        "text = ''.join(text).lower()\n",
        "\n",
        "tokens = sorted(set(text))\n",
        "token_to_idx = {c: idx for idx, c in enumerate(tokens)}\n",
        "idx_to_token  = {idx: c for idx, c in enumerate(tokens)}\n",
        "num_tokens = len(tokens)\n",
        "\n",
        "num_tokens, len(token_to_idx), len(idx_to_token)"
      ],
      "execution_count": 26,
      "outputs": [
        {
          "output_type": "execute_result",
          "data": {
            "text/plain": [
              "(73, 73, 73)"
            ]
          },
          "metadata": {
            "tags": []
          },
          "execution_count": 26
        }
      ]
    },
    {
      "cell_type": "code",
      "metadata": {
        "colab": {
          "base_uri": "https://localhost:8080/"
        },
        "id": "Bxpihrd9TgNz",
        "outputId": "1f4d71b2-b598-4b2b-afd6-bd298dbc8fb6"
      },
      "source": [
        "text.split('\\n')[:6]"
      ],
      "execution_count": 27,
      "outputs": [
        {
          "output_type": "execute_result",
          "data": {
            "text/plain": [
              "['звук осторожный и глухой',\n",
              " 'плода, сорвавшегося с древа,',\n",
              " 'среди немолчного напева',\n",
              " 'глубокой тишины лесной…',\n",
              " '',\n",
              " '1908']"
            ]
          },
          "metadata": {
            "tags": []
          },
          "execution_count": 27
        }
      ]
    },
    {
      "cell_type": "code",
      "metadata": {
        "colab": {
          "base_uri": "https://localhost:8080/"
        },
        "id": "203AbuIsTgNz",
        "outputId": "a39ecdce-4f6e-44ee-9a7d-65770387f01a"
      },
      "source": [
        "def parse_mandelshtam(texts):\n",
        "    sonnets = []\n",
        "    sonnet_lines = []\n",
        "    for line in texts.split('\\n'):\n",
        "        if len(line.strip()) < 7:\n",
        "            if len(sonnet_lines):\n",
        "                if not (sonnet_lines[0].strip().startswith('*') or sonnet_lines[0].strip().startswith('_') or sonnet_lines[0].strip()[0].isnumeric()):\n",
        "                    sonnets.append(''.join(sonnet_lines))\n",
        "                sonnet_lines = []\n",
        "        else:\n",
        "            line = line.lower().replace('  ', ' ').replace('  ', ' ') # remove duplicate spaces\n",
        "            sonnet_lines.append(' ' + line + '\\n')\n",
        "    if sonnet_lines: # Last sonnet\n",
        "        sonnets.append(''.join(sonnet_lines))\n",
        "        \n",
        "    return sonnets\n",
        "\n",
        "parse_mandelshtam(text)[:3]"
      ],
      "execution_count": 28,
      "outputs": [
        {
          "output_type": "execute_result",
          "data": {
            "text/plain": [
              "[' звук осторожный и глухой\\n плода, сорвавшегося с древа,\\n среди немолчного напева\\n глубокой тишины лесной…\\n',\n",
              " ' мой тихий сон, мой сон ежеминутный –\\n невидимый, завороженный лес,\\n где носится какой-то шорох смутный,\\n как дивный шелест шелковых завес.\\n',\n",
              " ' в безумных встречах и туманных спорах,\\n на перекрестке удивленных глаз\\n невидимый и непонятный шорох\\n под пеплом вспыхнул и уже погас.\\n']"
            ]
          },
          "metadata": {
            "tags": []
          },
          "execution_count": 28
        }
      ]
    },
    {
      "cell_type": "code",
      "metadata": {
        "colab": {
          "base_uri": "https://localhost:8080/"
        },
        "id": "uqjNJAl7TgNz",
        "outputId": "81084060-6986-48f9-b539-3b3a0b5843a2"
      },
      "source": [
        "MAX_TEXT_LENGTH = max([len(sonnet) for sonnet in parse_mandelshtam(text)])\n",
        "print(f'Max length of text is {MAX_TEXT_LENGTH} symbols')"
      ],
      "execution_count": 29,
      "outputs": [
        {
          "output_type": "stream",
          "text": [
            "Max length of text is 636 symbols\n"
          ],
          "name": "stdout"
        }
      ]
    },
    {
      "cell_type": "code",
      "metadata": {
        "colab": {
          "base_uri": "https://localhost:8080/",
          "height": 286
        },
        "id": "sjxquPsrTgNz",
        "outputId": "c204f62a-a328-4390-ab3b-92d7b3d77ea0"
      },
      "source": [
        "lr = 1e-2\n",
        "char_lstm = CharLSTM(num_tokens=num_tokens, emb_size=MAX_TEXT_LENGTH, num_units=384, dropout=0.05).to(device)\n",
        "trainable_params = [param for param in char_lstm.parameters() if param.requires_grad]\n",
        "opt = torch.optim.Adam(trainable_params, lr=lr)\n",
        "lr_scheduler = torch.optim.lr_scheduler.StepLR(opt, 200, gamma=0.3)\n",
        "\n",
        "criterion = nn.CrossEntropyLoss(ignore_index=num_tokens + 1)\n",
        "\n",
        "lstm_generate = TextGenerate(token_to_idx, idx_to_token, device)\n",
        "loss_lstm = lstm_generate.train_model(char_lstm, opt, lr_scheduler, criterion, parse_mandelshtam(text), n_iter=1_500)\n",
        "print('Loss =', loss_lstm)"
      ],
      "execution_count": 30,
      "outputs": [
        {
          "output_type": "display_data",
          "data": {
            "image/png": "[encoded data removed]",
            "text/plain": [
              "<Figure size 432x288 with 1 Axes>"
            ]
          },
          "metadata": {
            "tags": [],
            "needs_background": "light"
          }
        },
        {
          "output_type": "stream",
          "text": [
            "Loss = 0.30027905\n"
          ],
          "name": "stdout"
        }
      ]
    },
    {
      "cell_type": "code",
      "metadata": {
        "colab": {
          "base_uri": "https://localhost:8080/"
        },
        "id": "4Q4BvWcgTgN0",
        "outputId": "04a24438-c158-4510-ba0c-93f7d10f6fa3"
      },
      "source": [
        "print(lstm_generate.generate_sample(char_lstm, ' звук', 400, 0.2).strip())"
      ],
      "execution_count": 31,
      "outputs": [
        {
          "output_type": "stream",
          "text": [
            "звуков и не воздуха умерицы\n",
            " мне слово – соборой полной,\n",
            " и не воздуха в прозрачные воздуха –\n",
            " под колоколов и вода вольно,\n",
            " и словно в леса – в пространства полусот.\n"
          ],
          "name": "stdout"
        }
      ]
    },
    {
      "cell_type": "code",
      "metadata": {
        "colab": {
          "base_uri": "https://localhost:8080/"
        },
        "id": "RpHxmnG-TgN0",
        "outputId": "d89db9a0-ea86-4f71-c74d-5fdd4397400d"
      },
      "source": [
        "print(lstm_generate.generate_sample(char_lstm, ' звук', 400, 0.3).strip())"
      ],
      "execution_count": 32,
      "outputs": [
        {
          "output_type": "stream",
          "text": [
            "звуков безверенной ладина\n",
            " и не воздух густое полустала, и всемирный меря\n",
            " и страстный призрачных пританит –\n",
            " и в лесах и воздуха пошеленной страха\n",
            " в перед нам с улице темных страха\n",
            " и не страшно воздуха –\n",
            " не каменной бездная страница\n",
            " и не строительной тихом –\n",
            " и в полусоколавный и под строитель,\n",
            " и сознанье в небе нам собора.\n"
          ],
          "name": "stdout"
        }
      ]
    },
    {
      "cell_type": "code",
      "metadata": {
        "colab": {
          "base_uri": "https://localhost:8080/"
        },
        "id": "TBFJAKlhTgN1",
        "outputId": "ec6fbbdc-6e54-4e51-8858-ba79b5ff65a8"
      },
      "source": [
        "print(lstm_generate.generate_sample(char_lstm, ' звук', 400, 0.5).strip())"
      ],
      "execution_count": 33,
      "outputs": [
        {
          "output_type": "stream",
          "text": [
            "звуков могучей ластотарцем морей…\n"
          ],
          "name": "stdout"
        }
      ]
    },
    {
      "cell_type": "code",
      "metadata": {
        "colab": {
          "base_uri": "https://localhost:8080/"
        },
        "id": "XMOXeXgwTgN5",
        "outputId": "79aee8b1-ecdb-4c60-bc92-ef877a30ecfc"
      },
      "source": [
        "print(lstm_generate.generate_sample(char_lstm, ' довольно', 400, 0.2).strip())"
      ],
      "execution_count": 34,
      "outputs": [
        {
          "output_type": "stream",
          "text": [
            "довольно собора – собора, ни века,\n",
            " как на стеной вечной странный и полусок,\n",
            " как полновый медленной раздыханье.\n"
          ],
          "name": "stdout"
        }
      ]
    },
    {
      "cell_type": "code",
      "metadata": {
        "colab": {
          "base_uri": "https://localhost:8080/"
        },
        "id": "nXgyU4JrTgN7",
        "outputId": "9b531098-c0a0-4dcf-c59e-dc5f2edb0840"
      },
      "source": [
        "print(lstm_generate.generate_sample(char_lstm, ' довольно', 400, 0.3).strip())"
      ],
      "execution_count": 35,
      "outputs": [
        {
          "output_type": "stream",
          "text": [
            "довольно в небе облаков\n",
            " и вернулась в строительной дрожи\n",
            " и простиваю любить –\n",
            " небо летится, под соборы.\n"
          ],
          "name": "stdout"
        }
      ]
    },
    {
      "cell_type": "code",
      "metadata": {
        "colab": {
          "base_uri": "https://localhost:8080/"
        },
        "id": "4bfNiNg0TgN8",
        "outputId": "d27113fb-c260-4d30-f142-3166470a8ae4"
      },
      "source": [
        "print(lstm_generate.generate_sample(char_lstm, ' довольно', 400, 0.5).strip())"
      ],
      "execution_count": 36,
      "outputs": [
        {
          "output_type": "stream",
          "text": [
            "довольно она рассказывала запечать:\n",
            " в сердце голубого в них – в колокола.\n"
          ],
          "name": "stdout"
        }
      ]
    },
    {
      "cell_type": "markdown",
      "metadata": {
        "id": "RyTpVMNrTgN8"
      },
      "source": [
        "### References\n",
        "1. <a href='http://karpathy.github.io/2015/05/21/rnn-effectiveness/'> Andrew Karpathy blog post about RNN. </a> \n",
        "There are several examples of genration: Shakespeare texts, Latex formulas, Linux Sourse Code and children names.\n",
        "2. <a href='https://github.com/karpathy/char-rnn'> Repo with char-rnn code </a>\n",
        "3. Cool repo with PyTorch examples: [link](https://github.com/spro/practical-pytorch`)"
      ]
    }
  ]
}