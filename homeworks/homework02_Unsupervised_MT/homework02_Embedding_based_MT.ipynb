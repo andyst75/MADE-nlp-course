{
 "cells": [
  {
   "cell_type": "markdown",
   "metadata": {
    "colab_type": "text",
    "id": "eulvfJWl7ueY"
   },
   "source": [
    "## Homework 02: Unsupervised embedding-based MT\n",
    "*Note: this homework is based on open materials from yandexdataschool [NLP course](https://github.com/yandexdataschool/nlp_course/). Feel free to check this awesome course if you wish to dig deeper.*\n",
    "\n",
    "*Refined by [Nikolay Karpachev](https://www.linkedin.com/in/nikolay-karpachev-b0146a104/)*"
   ]
  },
  {
   "cell_type": "markdown",
   "metadata": {
    "colab_type": "text",
    "id": "fV4rIjxa7uei"
   },
   "source": [
    "**In this homework** **<font color='red'>YOU</font>** will make machine translation system without using parallel corpora, alignment, attention, 100500 depth super-cool recurrent neural network and all that kind superstuff.\n",
    "\n",
    "But even without parallel corpora this system can be good enough (hopefully), in particular for similar languages, e.g. Ukrainian and Russian. "
   ]
  },
  {
   "cell_type": "markdown",
   "metadata": {
    "colab_type": "text",
    "id": "idSYq2GU7uew"
   },
   "source": [
    "### Frament of the Swadesh list for some slavic languages\n",
    "\n",
    "The Swadesh list is a lexicostatistical stuff. It's named after American linguist Morris Swadesh and contains basic lexis. This list are used to define subgroupings of languages, its relatedness.\n",
    "\n",
    "So we can see some kind of word invariance for different Slavic languages.\n",
    "\n",
    "\n",
    "| Russian         | Belorussian              | Ukrainian               | Polish             | Czech                         | Bulgarian            |\n",
    "|-----------------|--------------------------|-------------------------|--------------------|-------------------------------|-----------------------|\n",
    "| женщина         | жанчына, кабета, баба    | жінка                   | kobieta            | žena                          | жена                  |\n",
    "| мужчина         | мужчына                  | чоловік, мужчина        | mężczyzna          | muž                           | мъж                   |\n",
    "| человек         | чалавек                  | людина, чоловік         | człowiek           | člověk                        | човек                 |\n",
    "| ребёнок, дитя   | дзіця, дзіцёнак, немаўля | дитина, дитя            | dziecko            | dítě                          | дете                  |\n",
    "| жена            | жонка                    | дружина, жінка          | żona               | žena, manželka, choť          | съпруга, жена         |\n",
    "| муж             | муж, гаспадар            | чоловiк, муж            | mąż                | muž, manžel, choť             | съпруг, мъж           |\n",
    "| мать, мама      | маці, матка              | мати, матір, неня, мама | matka              | matka, máma, 'стар.' mateř    | майка                 |\n",
    "| отец, тятя      | бацька, тата             | батько, тато, татусь    | ojciec             | otec                          | баща, татко           |\n",
    "| много           | шмат, багата             | багато                  | wiele              | mnoho, hodně                  | много                 |\n",
    "| несколько       | некалькі, колькі         | декілька, кілька        | kilka              | několik, pár, trocha          | няколко               |\n",
    "| другой, иной    | іншы                     | інший                   | inny               | druhý, jiný                   | друг                  |\n",
    "| зверь, животное | жывёла, звер, істота     | тварина, звір           | zwierzę            | zvíře                         | животно               |\n",
    "| рыба            | рыба                     | риба                    | ryba               | ryba                          | риба                  |\n",
    "| птица           | птушка                   | птах, птиця             | ptak               | pták                          | птица                 |\n",
    "| собака, пёс     | сабака                   | собака, пес             | pies               | pes                           | куче, пес             |\n",
    "| вошь            | вош                      | воша                    | wesz               | veš                           | въшка                 |\n",
    "| змея, гад       | змяя                     | змія, гад               | wąż                | had                           | змия                  |\n",
    "| червь, червяк   | чарвяк                   | хробак, черв'як         | robak              | červ                          | червей                |\n",
    "| дерево          | дрэва                    | дерево                  | drzewo             | strom, dřevo                  | дърво                 |\n",
    "| лес             | лес                      | ліс                     | las                | les                           | гора, лес             |\n",
    "| палка           | кій, палка               | палиця                  | patyk, pręt, pałka | hůl, klacek, prut, kůl, pálka | палка, пръчка, бастун |"
   ]
  },
  {
   "cell_type": "markdown",
   "metadata": {
    "colab_type": "text",
    "id": "cNM3_fjr7ue2"
   },
   "source": [
    "But the context distribution of these languages demonstrates even more invariance. And we can use this fact for our for our purposes."
   ]
  },
  {
   "cell_type": "markdown",
   "metadata": {
    "colab_type": "text",
    "id": "YLppwa527ue6"
   },
   "source": [
    "## Data"
   ]
  },
  {
   "cell_type": "code",
   "execution_count": 1,
   "metadata": {
    "colab": {},
    "colab_type": "code",
    "id": "lYBGKAUn7ue_"
   },
   "outputs": [],
   "source": [
    "import gensim\n",
    "import numpy as np\n",
    "from gensim.models import KeyedVectors"
   ]
  },
  {
   "cell_type": "markdown",
   "metadata": {
    "colab_type": "text",
    "id": "MwGoVhRA7ufP"
   },
   "source": [
    "In this notebook we're going to use pretrained word vectors - FastText (original paper - https://arxiv.org/abs/1607.04606).\n",
    "\n",
    "You can download them from the official [website](https://fasttext.cc/docs/en/crawl-vectors.html). We're going to need embeddings for Russian and Ukrainian languages. Please use word2vec-compatible format (.text)."
   ]
  },
  {
   "cell_type": "code",
   "execution_count": 2,
   "metadata": {},
   "outputs": [],
   "source": [
    "import os\n",
    "import gzip\n",
    "import shutil\n",
    "\n",
    "def get_gensim_emb(name):\n",
    "    if not os.path.exists(name):\n",
    "        print(f'File {name} not found locally. Downloading...')\n",
    "        !wget https://dl.fbaipublicfiles.com/fasttext/vectors-crawl/{name}.gz -nc\n",
    "        with gzip.open(f'{name}.gz', 'rb') as f_in:\n",
    "            with open(name, 'wb') as f_out:\n",
    "                shutil.copyfileobj(f_in, f_out)\n",
    "        os.remove(f'{name}.gz')\n",
    "\n",
    "get_gensim_emb('cc.uk.300.vec')\n",
    "get_gensim_emb('cc.ru.300.vec')"
   ]
  },
  {
   "cell_type": "code",
   "execution_count": 3,
   "metadata": {
    "colab": {},
    "colab_type": "code",
    "id": "u1JjQv_97ufT"
   },
   "outputs": [],
   "source": [
    "uk_emb = KeyedVectors.load_word2vec_format(\"cc.uk.300.vec\")"
   ]
  },
  {
   "cell_type": "code",
   "execution_count": 4,
   "metadata": {
    "colab": {},
    "colab_type": "code",
    "id": "ffzuept_7ufd"
   },
   "outputs": [],
   "source": [
    "ru_emb = KeyedVectors.load_word2vec_format(\"cc.ru.300.vec\")"
   ]
  },
  {
   "cell_type": "code",
   "execution_count": 5,
   "metadata": {
    "colab": {},
    "colab_type": "code",
    "id": "nTkXfT0W7ufk"
   },
   "outputs": [
    {
     "data": {
      "text/plain": [
       "[('август', 1.0000001192092896),\n",
       " ('июль', 0.9383152723312378),\n",
       " ('сентябрь', 0.9240029454231262),\n",
       " ('июнь', 0.9222574830055237),\n",
       " ('октябрь', 0.9095539450645447),\n",
       " ('ноябрь', 0.8930036425590515),\n",
       " ('апрель', 0.8729087114334106),\n",
       " ('декабрь', 0.8652557730674744),\n",
       " ('март', 0.8545795679092407),\n",
       " ('февраль', 0.8401415944099426)]"
      ]
     },
     "execution_count": 5,
     "metadata": {},
     "output_type": "execute_result"
    }
   ],
   "source": [
    "ru_emb.most_similar([ru_emb[\"август\"]], topn=10)"
   ]
  },
  {
   "cell_type": "code",
   "execution_count": 6,
   "metadata": {
    "colab": {},
    "colab_type": "code",
    "id": "vdBA8lcg7ufs"
   },
   "outputs": [
    {
     "data": {
      "text/plain": [
       "[('серпень', 0.9999998807907104),\n",
       " ('липень', 0.9096441268920898),\n",
       " ('вересень', 0.9016969203948975),\n",
       " ('червень', 0.8992518782615662),\n",
       " ('жовтень', 0.8810408115386963),\n",
       " ('листопад', 0.8787633180618286),\n",
       " ('квітень', 0.8592804670333862),\n",
       " ('грудень', 0.8586863279342651),\n",
       " ('травень', 0.840811014175415),\n",
       " ('лютий', 0.8256431221961975)]"
      ]
     },
     "execution_count": 6,
     "metadata": {},
     "output_type": "execute_result"
    }
   ],
   "source": [
    "uk_emb.most_similar([uk_emb[\"серпень\"]])"
   ]
  },
  {
   "cell_type": "code",
   "execution_count": 7,
   "metadata": {
    "colab": {},
    "colab_type": "code",
    "id": "_yJvcKXO7uf0"
   },
   "outputs": [
    {
     "data": {
      "text/plain": [
       "[('Stepashka.com', 0.2757962644100189),\n",
       " ('ЖИЗНИВадим', 0.25203436613082886),\n",
       " ('2Дмитрий', 0.25048112869262695),\n",
       " ('2012Дмитрий', 0.24829229712486267),\n",
       " ('Ведущий-Алексей', 0.24438698589801788),\n",
       " ('Недопустимость', 0.24435284733772278),\n",
       " ('2Михаил', 0.23981398344039917),\n",
       " ('лексей', 0.23740755021572113),\n",
       " ('комплексн', 0.23695150017738342),\n",
       " ('персональ', 0.2368222326040268)]"
      ]
     },
     "execution_count": 7,
     "metadata": {},
     "output_type": "execute_result"
    }
   ],
   "source": [
    "ru_emb.most_similar([uk_emb[\"серпень\"]])"
   ]
  },
  {
   "cell_type": "markdown",
   "metadata": {
    "colab_type": "text",
    "id": "pNdYAR1q7uf6"
   },
   "source": [
    "Load small dictionaries for correspoinding words pairs as trainset and testset."
   ]
  },
  {
   "cell_type": "code",
   "execution_count": 8,
   "metadata": {
    "colab": {},
    "colab_type": "code",
    "id": "35d_DAK67uf8"
   },
   "outputs": [],
   "source": [
    "def load_word_pairs(filename):\n",
    "    uk_ru_pairs = []\n",
    "    uk_vectors = []\n",
    "    ru_vectors = []\n",
    "    with open(filename, \"r\") as inpf:\n",
    "        for line in inpf:\n",
    "            uk, ru = line.rstrip().split(\"\\t\")\n",
    "            if uk not in uk_emb or ru not in ru_emb:\n",
    "                continue\n",
    "            uk_ru_pairs.append((uk, ru))\n",
    "            uk_vectors.append(uk_emb[uk])\n",
    "            ru_vectors.append(ru_emb[ru])\n",
    "    return uk_ru_pairs, np.array(uk_vectors), np.array(ru_vectors)"
   ]
  },
  {
   "cell_type": "code",
   "execution_count": 9,
   "metadata": {
    "colab": {},
    "colab_type": "code",
    "id": "wkNL602WHJyO"
   },
   "outputs": [
    {
     "name": "stdout",
     "output_type": "stream",
     "text": [
      "--2021-04-02 06:39:01--  http://tiny.cc/jfgecz\n",
      "Resolving tiny.cc (tiny.cc)... 157.245.113.153\n",
      "Connecting to tiny.cc (tiny.cc)|157.245.113.153|:80... connected.\n",
      "HTTP request sent, awaiting response... 301 Moved Permanently\n",
      "Location: https://tiny.cc/jfgecz [following]\n",
      "--2021-04-02 06:39:02--  https://tiny.cc/jfgecz\n",
      "Connecting to tiny.cc (tiny.cc)|157.245.113.153|:443... connected.\n",
      "HTTP request sent, awaiting response... 303 See Other\n",
      "Location: https://raw.githubusercontent.com/yandexdataschool/nlp_course/master/week01_embeddings/ukr_rus.train.txt [following]\n",
      "--2021-04-02 06:39:02--  https://raw.githubusercontent.com/yandexdataschool/nlp_course/master/week01_embeddings/ukr_rus.train.txt\n",
      "Resolving raw.githubusercontent.com (raw.githubusercontent.com)... 185.199.111.133, 185.199.108.133, 185.199.109.133, ...\n",
      "Connecting to raw.githubusercontent.com (raw.githubusercontent.com)|185.199.111.133|:443... connected.\n",
      "HTTP request sent, awaiting response... 200 OK\n",
      "Length: 59351 (58K) [text/plain]\n",
      "Saving to: ‘ukr_rus.train.txt’\n",
      "\n",
      "ukr_rus.train.txt   100%[===================>]  57.96K  --.-KB/s    in 0.1s    \n",
      "\n",
      "2021-04-02 06:39:03 (589 KB/s) - ‘ukr_rus.train.txt’ saved [59351/59351]\n",
      "\n"
     ]
    }
   ],
   "source": [
    "!wget -O ukr_rus.train.txt http://tiny.cc/jfgecz"
   ]
  },
  {
   "cell_type": "code",
   "execution_count": 10,
   "metadata": {
    "colab": {},
    "colab_type": "code",
    "id": "uoclU6JcHCcn"
   },
   "outputs": [
    {
     "name": "stdout",
     "output_type": "stream",
     "text": [
      "--2021-04-02 06:39:03--  http://tiny.cc/6zoeez\n",
      "Resolving tiny.cc (tiny.cc)... 157.245.113.153\n",
      "Connecting to tiny.cc (tiny.cc)|157.245.113.153|:80... connected.\n",
      "HTTP request sent, awaiting response... 301 Moved Permanently\n",
      "Location: https://tiny.cc/6zoeez [following]\n",
      "--2021-04-02 06:39:04--  https://tiny.cc/6zoeez\n",
      "Connecting to tiny.cc (tiny.cc)|157.245.113.153|:443... connected.\n",
      "HTTP request sent, awaiting response... 303 See Other\n",
      "Location: https://raw.githubusercontent.com/yandexdataschool/nlp_course/master/week01_embeddings/ukr_rus.test.txt [following]\n",
      "--2021-04-02 06:39:04--  https://raw.githubusercontent.com/yandexdataschool/nlp_course/master/week01_embeddings/ukr_rus.test.txt\n",
      "Resolving raw.githubusercontent.com (raw.githubusercontent.com)... 185.199.110.133, 185.199.109.133, 185.199.108.133, ...\n",
      "Connecting to raw.githubusercontent.com (raw.githubusercontent.com)|185.199.110.133|:443... connected.\n",
      "HTTP request sent, awaiting response... 200 OK\n",
      "Length: 12188 (12K) [text/plain]\n",
      "Saving to: ‘ukr_rus.test.txt’\n",
      "\n",
      "ukr_rus.test.txt    100%[===================>]  11.90K  --.-KB/s    in 0.004s  \n",
      "\n",
      "2021-04-02 06:39:05 (3.10 MB/s) - ‘ukr_rus.test.txt’ saved [12188/12188]\n",
      "\n"
     ]
    }
   ],
   "source": [
    "!wget -O ukr_rus.test.txt http://tiny.cc/6zoeez"
   ]
  },
  {
   "cell_type": "code",
   "execution_count": 11,
   "metadata": {
    "colab": {},
    "colab_type": "code",
    "id": "05BqsdSK7ugD"
   },
   "outputs": [],
   "source": [
    "uk_ru_train, X_train, Y_train = load_word_pairs(\"ukr_rus.train.txt\")"
   ]
  },
  {
   "cell_type": "code",
   "execution_count": 12,
   "metadata": {
    "colab": {},
    "colab_type": "code",
    "id": "zQOZw51r7ugL"
   },
   "outputs": [],
   "source": [
    "uk_ru_test, X_test, Y_test = load_word_pairs(\"ukr_rus.test.txt\")"
   ]
  },
  {
   "cell_type": "markdown",
   "metadata": {
    "colab_type": "text",
    "id": "-ZBBNvpz7ugQ"
   },
   "source": [
    "## Embedding space mapping (0.3 pts)"
   ]
  },
  {
   "cell_type": "markdown",
   "metadata": {
    "colab_type": "text",
    "id": "x_Dhk5gL7ugS"
   },
   "source": [
    "Let $x_i \\in \\mathrm{R}^d$ be the distributed representation of word $i$ in the source language, and $y_i \\in \\mathrm{R}^d$ is the vector representation of its translation. Our purpose is to learn such linear transform $W$ that minimizes euclidian distance between $Wx_i$ and $y_i$ for some subset of word embeddings. Thus we can formulate so-called Procrustes problem:\n",
    "\n",
    "$$W^*= \\arg\\min_W \\sum_{i=1}^n||Wx_i - y_i||_2$$\n",
    "or\n",
    "$$W^*= \\arg\\min_W ||WX - Y||_F$$\n",
    "\n",
    "where $||*||_F$ - Frobenius norm."
   ]
  },
  {
   "cell_type": "markdown",
   "metadata": {
    "colab_type": "text",
    "id": "acOjDdtL7ugY"
   },
   "source": [
    "$W^*= \\arg\\min_W \\sum_{i=1}^n||Wx_i - y_i||_2$ looks like simple multiple linear regression (without intercept fit). So let's code."
   ]
  },
  {
   "cell_type": "code",
   "execution_count": 13,
   "metadata": {
    "colab": {},
    "colab_type": "code",
    "id": "Lb-KN1be7uga"
   },
   "outputs": [],
   "source": [
    "from sklearn.linear_model import LinearRegression\n",
    "\n",
    "mapping = LinearRegression(fit_intercept=False).fit(X_train, Y_train)"
   ]
  },
  {
   "cell_type": "markdown",
   "metadata": {
    "colab_type": "text",
    "id": "X7tqJwoY7ugf"
   },
   "source": [
    "Let's take a look at neigbours of the vector of word _\"серпень\"_ (_\"август\"_ in Russian) after linear transform."
   ]
  },
  {
   "cell_type": "code",
   "execution_count": 14,
   "metadata": {
    "colab": {},
    "colab_type": "code",
    "id": "31SrFSbn7ugi"
   },
   "outputs": [
    {
     "data": {
      "text/plain": [
       "[('апрель', 0.8531432747840881),\n",
       " ('июнь', 0.8402523398399353),\n",
       " ('март', 0.8385883569717407),\n",
       " ('сентябрь', 0.8331484198570251),\n",
       " ('февраль', 0.8311208486557007),\n",
       " ('октябрь', 0.8278018832206726),\n",
       " ('ноябрь', 0.8243727684020996),\n",
       " ('июль', 0.8229618072509766),\n",
       " ('август', 0.8112279772758484),\n",
       " ('январь', 0.8022985458374023)]"
      ]
     },
     "execution_count": 14,
     "metadata": {},
     "output_type": "execute_result"
    }
   ],
   "source": [
    "august = mapping.predict(uk_emb[\"серпень\"].reshape(1, -1))\n",
    "ru_emb.most_similar(august)"
   ]
  },
  {
   "cell_type": "code",
   "execution_count": 15,
   "metadata": {},
   "outputs": [
    {
     "data": {
      "text/plain": [
       "1"
      ]
     },
     "execution_count": 15,
     "metadata": {},
     "output_type": "execute_result"
    }
   ],
   "source": [
    "sum([1 for w, _ in ru_emb.most_similar(august[0].reshape(1, -1), topn=10) if w == 'август'])"
   ]
  },
  {
   "cell_type": "markdown",
   "metadata": {
    "colab_type": "text",
    "id": "okSkjk597ugo"
   },
   "source": [
    "We can see that neighbourhood of this embedding cosists of different months, but right variant is on the ninth place."
   ]
  },
  {
   "cell_type": "markdown",
   "metadata": {
    "colab_type": "text",
    "id": "o2uY6Y9B7ugt"
   },
   "source": [
    "As quality measure we will use precision top-1, top-5 and top-10 (for each transformed Ukrainian embedding we count how many right target pairs are found in top N nearest neighbours in Russian embedding space)."
   ]
  },
  {
   "cell_type": "code",
   "execution_count": 16,
   "metadata": {
    "colab": {},
    "colab_type": "code",
    "id": "zptuho8LAfIE"
   },
   "outputs": [],
   "source": [
    "def precision(pairs, mapped_vectors, topn=1):\n",
    "    \"\"\"\n",
    "    :args:\n",
    "        pairs = list of right word pairs [(uk_word_0, ru_word_0), ...]\n",
    "        mapped_vectors = list of embeddings after mapping from source embedding space to destination embedding space\n",
    "        topn = the number of nearest neighbours in destination embedding space to choose from\n",
    "    :returns:\n",
    "        precision_val, float number, total number of words for those we can find right translation at top K.\n",
    "    \"\"\"\n",
    "    assert len(pairs) == len(mapped_vectors)\n",
    "    num_matches = 0\n",
    "    for i, (_, ru) in enumerate(pairs):\n",
    "        num_matches += sum([1 for w, _ in ru_emb.most_similar(mapped_vectors[i].reshape(1, -1), topn=topn) if w == ru])\n",
    "\n",
    "    precision_val = num_matches / len(pairs)\n",
    "    return precision_val"
   ]
  },
  {
   "cell_type": "code",
   "execution_count": 17,
   "metadata": {
    "colab": {},
    "colab_type": "code",
    "id": "duhj9hpv7ugy"
   },
   "outputs": [],
   "source": [
    "assert precision([(\"серпень\", \"август\")], august, topn=5) == 0.0\n",
    "assert precision([(\"серпень\", \"август\")], august, topn=9) == 1.0\n",
    "assert precision([(\"серпень\", \"август\")], august, topn=10) == 1.0"
   ]
  },
  {
   "cell_type": "code",
   "execution_count": 18,
   "metadata": {
    "colab": {},
    "colab_type": "code",
    "id": "0-iyd5gP7ug5"
   },
   "outputs": [],
   "source": [
    "assert precision(uk_ru_test, X_test) == 0.0\n",
    "assert precision(uk_ru_test, Y_test) == 1.0"
   ]
  },
  {
   "cell_type": "code",
   "execution_count": 19,
   "metadata": {
    "colab": {},
    "colab_type": "code",
    "id": "U-ssEJ3x7uhA"
   },
   "outputs": [],
   "source": [
    "precision_top1 = precision(uk_ru_test, mapping.predict(X_test), 1)\n",
    "precision_top5 = precision(uk_ru_test, mapping.predict(X_test), 5)"
   ]
  },
  {
   "cell_type": "code",
   "execution_count": 20,
   "metadata": {
    "colab": {},
    "colab_type": "code",
    "id": "7K-hy7a6Ksn2"
   },
   "outputs": [
    {
     "name": "stdout",
     "output_type": "stream",
     "text": [
      "0.628498727735369\n",
      "0.7913486005089059\n"
     ]
    }
   ],
   "source": [
    "print(precision_top1)\n",
    "print(precision_top5)"
   ]
  },
  {
   "cell_type": "markdown",
   "metadata": {
    "colab_type": "text",
    "id": "hf6Ou8bx7uhH"
   },
   "source": [
    "## Making it better (orthogonal Procrustean problem) (0.3 pts)"
   ]
  },
  {
   "cell_type": "markdown",
   "metadata": {
    "colab_type": "text",
    "id": "4oLs-drN7uhK"
   },
   "source": [
    "It can be shown (see original paper) that a self-consistent linear mapping between semantic spaces should be orthogonal. \n",
    "We can restrict transform $W$ to be orthogonal. Then we will solve next problem:\n",
    "\n",
    "$$W^*= \\arg\\min_W ||WX - Y||_F \\text{, where: } W^TW = I$$\n",
    "\n",
    "$$I \\text{- identity matrix}$$\n",
    "\n",
    "Instead of making yet another regression problem we can find optimal orthogonal transformation using singular value decomposition. It turns out that optimal transformation $W^*$ can be expressed via SVD components:\n",
    "$$X^TY=U\\Sigma V^T\\text{, singular value decompostion}$$\n",
    "$$W^*=UV^T$$"
   ]
  },
  {
   "cell_type": "code",
   "execution_count": 21,
   "metadata": {
    "colab": {},
    "colab_type": "code",
    "id": "_KSaRJFGMFiJ"
   },
   "outputs": [],
   "source": [
    "import numpy as np"
   ]
  },
  {
   "cell_type": "code",
   "execution_count": 22,
   "metadata": {
    "colab": {},
    "colab_type": "code",
    "id": "DdFQ7qti7uhL"
   },
   "outputs": [],
   "source": [
    "def learn_transform(X_train, Y_train):\n",
    "    \"\"\" \n",
    "    :returns: W* : float matrix[emb_dim x emb_dim] as defined in formulae above\n",
    "    \"\"\"\n",
    "    # compute orthogonal embedding space mapping\n",
    "    u, s, vh = np.linalg.svd(X_train.T @ Y_train, full_matrices=True)\n",
    "    mapping = u @ vh\n",
    "    \n",
    "    return mapping"
   ]
  },
  {
   "cell_type": "code",
   "execution_count": 23,
   "metadata": {
    "colab": {},
    "colab_type": "code",
    "id": "7X7QfYDd7uhQ"
   },
   "outputs": [],
   "source": [
    "W = learn_transform(X_train, Y_train)"
   ]
  },
  {
   "cell_type": "code",
   "execution_count": 24,
   "metadata": {
    "colab": {},
    "colab_type": "code",
    "id": "OVOFYYa37uhX"
   },
   "outputs": [
    {
     "data": {
      "text/plain": [
       "[('апрель', 0.8245131969451904),\n",
       " ('июнь', 0.8056630492210388),\n",
       " ('сентябрь', 0.8055760264396667),\n",
       " ('март', 0.8032935261726379),\n",
       " ('октябрь', 0.7987101078033447),\n",
       " ('июль', 0.7946797013282776),\n",
       " ('ноябрь', 0.793963611125946),\n",
       " ('август', 0.7938189506530762),\n",
       " ('февраль', 0.7923860549926758),\n",
       " ('декабрь', 0.7715376019477844)]"
      ]
     },
     "execution_count": 24,
     "metadata": {},
     "output_type": "execute_result"
    }
   ],
   "source": [
    "ru_emb.most_similar([np.matmul(uk_emb[\"серпень\"], W)])"
   ]
  },
  {
   "cell_type": "code",
   "execution_count": 25,
   "metadata": {
    "colab": {},
    "colab_type": "code",
    "id": "r297sYP37uhb"
   },
   "outputs": [
    {
     "name": "stdout",
     "output_type": "stream",
     "text": [
      "0.6437659033078881\n",
      "0.7989821882951654\n"
     ]
    }
   ],
   "source": [
    "print(precision(uk_ru_test, np.matmul(X_test, W)))\n",
    "print(precision(uk_ru_test, np.matmul(X_test, W), 5))"
   ]
  },
  {
   "cell_type": "markdown",
   "metadata": {
    "colab_type": "text",
    "id": "hvUZ72U5AfJg"
   },
   "source": [
    "## Unsupervised embedding-based MT (0.4 pts)"
   ]
  },
  {
   "cell_type": "markdown",
   "metadata": {
    "colab_type": "text",
    "id": "LLyuVfHBLrJn"
   },
   "source": [
    "Now, let's build our word embeddings-based translator!"
   ]
  },
  {
   "cell_type": "markdown",
   "metadata": {
    "colab_type": "text",
    "id": "tPAURW1CMuP7"
   },
   "source": [
    "Firstly, download OPUS Tatoeba corpus."
   ]
  },
  {
   "cell_type": "code",
   "execution_count": 26,
   "metadata": {
    "colab": {},
    "colab_type": "code",
    "id": "F80kUKzQMsDu"
   },
   "outputs": [],
   "source": [
    "name = 'uk.txt'\n",
    "if not os.path.exists(name):\n",
    "    print(f'File {name} not found locally. Downloading...')\n",
    "    !wget https://object.pouta.csc.fi/OPUS-Tatoeba/v20190709/mono/{name}.gz\n",
    "    with gzip.open(f'{name}.gz', 'rb') as f_in:\n",
    "        with open(name, 'wb') as f_out:\n",
    "            shutil.copyfileobj(f_in, f_out)\n",
    "    os.remove(f'{name}.gz')"
   ]
  },
  {
   "cell_type": "code",
   "execution_count": 27,
   "metadata": {
    "colab": {},
    "colab_type": "code",
    "id": "2MV3VvoVUX5U"
   },
   "outputs": [],
   "source": [
    "with open('./uk.txt', 'r') as f:\n",
    "    uk_corpus = f.readlines()"
   ]
  },
  {
   "cell_type": "code",
   "execution_count": 28,
   "metadata": {
    "colab": {},
    "colab_type": "code",
    "id": "tU7nPVf0UhbI"
   },
   "outputs": [],
   "source": [
    "# To save your time and CPU, feel free to use first 1000 sentences of the corpus\n",
    "uk_corpus = uk_corpus[:1000]"
   ]
  },
  {
   "cell_type": "code",
   "execution_count": 29,
   "metadata": {
    "colab": {},
    "colab_type": "code",
    "id": "FLN8dBOXAfJ1"
   },
   "outputs": [],
   "source": [
    "# Any necessary preprocessing if needed\n",
    "import re\n",
    "from nltk.tokenize import WordPunctTokenizer"
   ]
  },
  {
   "cell_type": "code",
   "execution_count": 30,
   "metadata": {
    "colab": {},
    "colab_type": "code",
    "id": "FGksC7l_NMi9"
   },
   "outputs": [],
   "source": [
    "def translate(sentence):\n",
    "    \"\"\"\n",
    "    :args:\n",
    "        sentence - sentence in Ukrainian (str)\n",
    "    :returns:\n",
    "        translation - sentence in Russian (str)\n",
    "\n",
    "    * find ukrainian embedding for each word in sentence\n",
    "    * transform ukrainian embedding vector\n",
    "    * find nearest russian word and replace\n",
    "    \"\"\"\n",
    "    tokenizer = WordPunctTokenizer()\n",
    "    tokens = [token for token in tokenizer.tokenize(sentence)]\n",
    "\n",
    "    translated = []\n",
    "    for token in tokens:\n",
    "        if token in uk_emb:\n",
    "            ru = ru_emb.most_similar([uk_emb[token] @ W], topn=1)[0][0]\n",
    "            if token.title() == token:\n",
    "                ru = ru.title()\n",
    "            translated.append(ru)\n",
    "        else:\n",
    "            translated.append(f\"\\x1b[31m{token}\\x1b[0m\")\n",
    "\n",
    "    return ' '.join(translated).strip()"
   ]
  },
  {
   "cell_type": "code",
   "execution_count": 31,
   "metadata": {
    "colab": {},
    "colab_type": "code",
    "id": "4hbbMy-tNxlf"
   },
   "outputs": [],
   "source": [
    "assert translate(\".\") == \".\"\n",
    "assert translate(\"1 , 3\") == \"1 , 3\"\n",
    "assert translate(\"кіт зловив мишу\") == \"кот поймал мышку\""
   ]
  },
  {
   "cell_type": "markdown",
   "metadata": {
    "colab_type": "text",
    "id": "ia6I2ce7O_HI"
   },
   "source": [
    "Now you can play with your model and try to get as accurate translations as possible. **Note**: one big issue is out-of-vocabulary words. Try to think of various ways of handling it (you can start with translating each of them to a special **UNK** token and then move to more sophisticated approaches). Good luck!"
   ]
  },
  {
   "cell_type": "code",
   "execution_count": 32,
   "metadata": {
    "colab": {},
    "colab_type": "code",
    "id": "ap1W7ZCeOAVU"
   },
   "outputs": [
    {
     "name": "stdout",
     "output_type": "stream",
     "text": [
      "Я уже закончу колледж , когда мы прибежишь со Америки .\n",
      "Город бомбили враждебные самолеты .\n",
      "Возможно , мной антисоциальный , конечно это не означает , что мной не общаюсь со людьми .\n",
      "Впрочем утра выпала роса .\n",
      "Беда не приходит одна .\n",
      "Посмотри по тот дым .\n",
      "Я заказал два гамбургера .\n",
      "Я не хотел никого обидеть .\n",
      "Гора покрыта снегом .\n",
      "По фотографии во девушки корона не со золота , а со цветов .\n",
      "Во меня То мечта .\n",
      "Я приехал во Японию со Китая .\n",
      "По север находится Шотландия ; по юге — Англия ; по востоке — Уэльс ; и ещe дальше по востоке — Северная Ирландия .\n",
      "Его родная страна — Германия .\n",
      "Берн — столица Швейцарии .\n",
      "Он ждал по него к десятой часа .\n",
      "Ты можешь взять ту книгу даром .\n",
      "Такой роман сочинил известный американский писатель .\n",
      "Забронировать , будте ласковые , комнату возле международного аэропорта во Торонто .\n",
      "Он знает , что ты его влюбится ?\n",
      "Я знаю , что ты богатый .\n",
      "Те , кто всё забывают , счастливые .\n",
      "Во этой реке опасно плавать .\n",
      "Пришел , увидел , победил .\n",
      "Я хожу к школы пешком .\n",
      "Не моя дело !\n",
      "Не забудь билет .\n",
      "Кто он ?\n",
      "Вы будете чай ли кофе ?\n",
      "Он не пойдет по пикник , как и мной .\n",
      "Когда Вы родились ?\n",
      "Это моя любимая песня .\n",
      "Мы почти семь Со мной .\n",
      "Какой красивый сегодня месяц !\n",
      "Я против любой – которых войны .\n",
      "Поверхность воздушной шары — \u001b[31mнеевклідовий\u001b[0m пространство , потому для неё не выполняются правила симметрической геометрии .\n",
      "Говорят , что американцы считают количество денег , какую зарабатывает женщина , мерилом его умение .\n",
      "Можно мной \u001b[31mпримірю\u001b[0m это платье ?\n",
      "Если будет красивая погода , мы доберёмся туда завтра .\n",
      "Это был злой заяц .\n"
     ]
    }
   ],
   "source": [
    "for sent in uk_corpus[:400:10]:\n",
    "    print(translate(sent))"
   ]
  },
  {
   "cell_type": "markdown",
   "metadata": {},
   "source": [
    "### For unseen words use fasttext by Facebook & Levenshtein distance"
   ]
  },
  {
   "cell_type": "code",
   "execution_count": 33,
   "metadata": {},
   "outputs": [
    {
     "name": "stderr",
     "output_type": "stream",
     "text": [
      "Warning : `load_model` does not return WordVectorModel or SupervisedModel any more, but a `FastText` object which is very similar.\n"
     ]
    }
   ],
   "source": [
    "import fasttext\n",
    "import fasttext.util\n",
    "import Levenshtein\n",
    "\n",
    "fasttext.util.download_model(\"uk\", if_exists=\"ignore\")\n",
    "ft_uk = fasttext.load_model(\"cc.uk.300.bin\")\n",
    "\n",
    "def get_most_similar(token):\n",
    "    if token in uk_emb:\n",
    "        return token\n",
    "    else:\n",
    "        unks = ft_uk.get_nearest_neighbors(token, k=3)\n",
    "        ldist = [(unk[1], unk[0], Levenshtein.distance(token, unk[1])) for unk in unks]\n",
    "        ldist.sort(key=lambda x: x[1] * x[2])\n",
    "        if ldist[0][1] < 0.7:\n",
    "            return token\n",
    "        return ldist[0][0]"
   ]
  },
  {
   "cell_type": "code",
   "execution_count": 34,
   "metadata": {},
   "outputs": [],
   "source": [
    "def translate2(sentence):\n",
    "    tokenizer = WordPunctTokenizer()\n",
    "    tokens = [token for token in tokenizer.tokenize(sentence)]\n",
    "    \n",
    "    translated = []\n",
    "    for token in tokens:\n",
    "        word = get_most_similar(token)\n",
    "        if word in uk_emb:\n",
    "            word = ru_emb.most_similar([uk_emb[word] @ W], topn=1)[0][0]\n",
    "            if token.title() == token:\n",
    "                word = word.title()\n",
    "        elif (len(word) > 1) and word.isalpha():\n",
    "            word = f\"\\x1b[31m{token}\\x1b[0m\"\n",
    "        else:\n",
    "             word = token\n",
    "\n",
    "        translated.append(word)\n",
    "\n",
    "    return ' '.join(translated).strip()"
   ]
  },
  {
   "cell_type": "code",
   "execution_count": 35,
   "metadata": {},
   "outputs": [
    {
     "name": "stdout",
     "output_type": "stream",
     "text": [
      "> Я вже закінчу коледж, коли ви вернетеся з Америки.\n",
      "< Я уже закончу колледж , когда мы прибежишь со Америки .\n",
      "\n",
      "> Місто бомбардували ворожі літаки.\n",
      "< Город бомбили враждебные самолеты .\n",
      "\n",
      "> Можливо, я антисоціальний, але це не означає, що я не спілкуюся з людьми.\n",
      "< Возможно , мной антисоциальный , конечно это не означает , что мной не общаюсь со людьми .\n",
      "\n",
      "> Цього ранку випала роса.\n",
      "< Впрочем утра выпала роса .\n",
      "\n",
      "> Біда не приходить одна.\n",
      "< Беда не приходит одна .\n",
      "\n",
      "> Подивися на той дим.\n",
      "< Посмотри по тот дым .\n",
      "\n",
      "> Я замовив два гамбургера.\n",
      "< Я заказал два гамбургера .\n",
      "\n",
      "> Я не хотів нікого образити.\n",
      "< Я не хотел никого обидеть .\n",
      "\n",
      "> Гора вкрита снігом.\n",
      "< Гора покрыта снегом .\n",
      "\n",
      "> На фотографії в дівчини корона не з золота, а з квітів.\n",
      "< По фотографии во девушки корона не со золота , а со цветов .\n",
      "\n",
      "> У мене є мрія.\n",
      "< Во меня То мечта .\n",
      "\n",
      "> Я приїхав у Японію з Китаю.\n",
      "< Я приехал во Японию со Китая .\n",
      "\n",
      "> На півночі знаходиться Шотландія; на півдні — Англія; на заході — Уельс; і ще далі на заході — Північна Ірландія.\n",
      "< По север находится Шотландия ; по юге — Англия ; по востоке — Уэльс ; и ещe дальше по востоке — Северная Ирландия .\n",
      "\n",
      "> Його рідна країна — Німеччина.\n",
      "< Его родная страна — Германия .\n",
      "\n",
      "> Берн — столиця Швейцарії.\n",
      "< Берн — столица Швейцарии .\n",
      "\n",
      "> Він чекав на нього до десятої години.\n",
      "< Он ждал по него к десятой часа .\n",
      "\n",
      "> Ти можеш взяти цю книгу даром.\n",
      "< Ты можешь взять ту книгу даром .\n",
      "\n",
      "> Цей роман написав відомий американський письменник.\n",
      "< Такой роман сочинил известный американский писатель .\n",
      "\n",
      "> Забронюйте, будьте ласкаві, кімнату біля міжнародного аеропорту в Торонто.\n",
      "< Забронировать , будте ласковые , комнату возле международного аэропорта во Торонто .\n",
      "\n",
      "> Він знає, що ти його кохаєш?\n",
      "< Он знает , что ты его влюбится ?\n",
      "\n",
      "> Я знаю, що ти багатий.\n",
      "< Я знаю , что ты богатый .\n",
      "\n",
      "> Ті, хто все забувають, щасливі.\n",
      "< Те , кто всё забывают , счастливые .\n",
      "\n",
      "> В цій річці небезпечно плавати.\n",
      "< Во этой реке опасно плавать .\n",
      "\n",
      "> Прийшов, побачив, переміг.\n",
      "< Пришел , увидел , победил .\n",
      "\n",
      "> Я ходжу до школи пішки.\n",
      "< Я хожу к школы пешком .\n",
      "\n",
      "> Не твоя справа!\n",
      "< Не моя дело !\n",
      "\n",
      "> Не забудь квиток.\n",
      "< Не забудь билет .\n",
      "\n",
      "> Хто він?\n",
      "< Кто он ?\n",
      "\n",
      "> Ви будете чай чи каву?\n",
      "< Вы будете чай ли кофе ?\n",
      "\n",
      "> Він не піде на пікнік, як і я.\n",
      "< Он не пойдет по пикник , как и мной .\n",
      "\n",
      "> Коли Ви народилися?\n",
      "< Когда Вы родились ?\n",
      "\n",
      "> Це моя улюблена пісня.\n",
      "< Это моя любимая песня .\n",
      "\n",
      "> Ми майже сім’я.\n",
      "< Мы почти семь Со мной .\n",
      "\n",
      "> Який гарний сьогодні місяць!\n",
      "< Какой красивый сегодня месяц !\n",
      "\n",
      "> Я проти будь-яких війн.\n",
      "< Я против любой – которых войны .\n",
      "\n",
      "> Поверхня повітряної кулі — неевклідовий простір, тому для неї не виконуються правила евклідової геометрії.\n",
      "< Поверхность воздушной шары — неевклидовой пространство , потому для неё не выполняются правила симметрической геометрии .\n",
      "\n",
      "> Кажуть, що американці вважають кількість грошей, яку заробляє людина, мірилом його уміння.\n",
      "< Говорят , что американцы считают количество денег , какую зарабатывает женщина , мерилом его умение .\n",
      "\n",
      "> Можна я примірю це плаття?\n",
      "< Можно мной \u001b[31mпримірю\u001b[0m это платье ?\n",
      "\n",
      "> Якщо буде гарна погода, ми доберемося туди завтра.\n",
      "< Если будет красивая погода , мы доберёмся туда завтра .\n",
      "\n",
      "> Це був злий заєць.\n",
      "< Это был злой заяц .\n",
      "\n",
      "> Один, два, три, чотири, п'ять, шість, сім, вісім, дев'ять, десять.\n",
      "< Один , два , три , четыре , аш Со пять , восемь , семь , восемь , девять Со пять , десять .\n",
      "\n",
      "> Хто в любові не знається, той горя не знає.\n",
      "< Кто во любви не знает , тот горя не знает .\n",
      "\n",
      "> Його мати хвилюється за нього.\n",
      "< Его иметь волнуется за него .\n",
      "\n",
      "> Я поважаю тих, хто старається з усіх сил.\n",
      "< Я уважаю тех , кто старается со всех сил .\n",
      "\n",
      "> Їхня дружба переросла у глибоке кохання.\n",
      "< Необычайная дружба переросла во глубокое любовь .\n",
      "\n",
      "> Кейт п’є багато молока кожен день.\n",
      "< Рейчел аш Со То много молока каждый день .\n",
      "\n",
      "> Він злодій.\n",
      "< Он вор .\n",
      "\n",
      "> Шумового забруднення можна було б позбігнути тільки якщо б люди були більш чутливими до навколишнього середовища.\n",
      "< Поэтического загрязнение можно было бы обогнуть только если бы люди были более чувствительны к окружающей среды .\n",
      "\n",
      "> Чай з лимоном, будьте ласкаві.\n",
      "< Чай со лимоном , будте ласковые .\n",
      "\n",
      "> Не плутай бажання з коханням.\n",
      "< Не путать желание со влюбленностью .\n",
      "\n",
      "> Я би з задоволенням написав сотні речень в Tatoeb’і, але в мене є справи.\n",
      "< Я бы со удовольствием сочинил сотни сложноподчинённые во \u001b[31mTatoeb\u001b[0m Со и , конечно во меня То дела .\n",
      "\n",
      "> Дайте мені філіжанку кави.\n",
      "< Дайте мне чашечку кофе .\n",
      "\n",
      "> Але ж ти ніколи мені про це не розповідала!\n",
      "< Ведь же ты никогда мне о это не рассказывала !\n",
      "\n",
      "> У тебе будуть проблеми, якщо твої батьки довідаються.\n",
      "< Во тебя будут проблемы , если твои родители узнают .\n",
      "\n",
      "> Запах троянд наповнив кімнату.\n",
      "< Запах роз наполнил комнату .\n",
      "\n",
      "> Як у тебе справи?\n",
      "< Как во тебя дела ?\n",
      "\n",
      "> Це мої штани.\n",
      "< Это мои штаны .\n",
      "\n",
      "> Ні, дякую.\n",
      "< Нет , спасибо .\n",
      "\n",
      "> Я не розумію, чому Німеччина перемогла на Євробаченні.\n",
      "< Я не понимаю , почему Германия победила по Евровидении .\n",
      "\n",
      "> Добрий вечір.\n",
      "< Добрый вечер .\n",
      "\n",
      "> З юбілеєм Олексія Дударева привітав Президент Білорусі Олександр Лукашенко.\n",
      "< Со трехлетием Алексея Палашка поприветствовал Президент Белоруссии Александр Лукашенко .\n",
      "\n",
      "> Чумацький шлях — широкий пояс із далеких зірок, кожна зірка — сонце, таке як наше.\n",
      "< Млечный путь — широкий пояс со далеких звёзд , каждая звезда — солнце , такое как наше .\n",
      "\n",
      "> Незвичайно бачити рок-зірок з краваткою!\n",
      "< Удивительно видеть рок – звёзд со галстук !\n",
      "\n",
      "> Усе печиво у формі зірок.\n",
      "< Всё печенье во форме звёзд .\n",
      "\n",
      "> Що мені вдягнути — штани чи спідницю?\n",
      "< Что мне одеть — штаны ли юбку ?\n",
      "\n",
      "> Гартман Вітвер — відомий львівський скульптор.\n",
      "< Краусс Утверждал — известный московский скульптор .\n",
      "\n",
      "> То був злий кролик.\n",
      "< Ой был злой кролик .\n",
      "\n",
      "> Можеш взяти будь-який, що тобі до сподоби.\n",
      "< Можешь взять любой – который , что тебе к отвратиться .\n",
      "\n",
      "> Звичайно я піду.\n",
      "< Конечно мной пойду .\n",
      "\n",
      "> Шовкопряди прядуть кокони.\n",
      "< Шелковичные прядут коконы .\n",
      "\n",
      "> Що б ти зробила, якщо б у тебе було, скажім, десять тисяч доларів?\n",
      "< Что бы ты сделала , если бы во тебя было , замечу , десять тысяч долларов ?\n",
      "\n",
      "> Він думає, що він хтось, а насправді він ніхто.\n",
      "< Он думает , что он кто-то , а действительно он никто .\n",
      "\n",
      "> Вона дуже пишається своєю колекцією марок.\n",
      "< Она очень гордится своею коллекцией марок .\n",
      "\n",
      "> Він дуже простий...\n",
      "< Он очень простой ...\n",
      "\n",
      "> Яка ти добра!\n",
      "< Какая ты добра !\n",
      "\n",
      "> Як я за тобою скучив!\n",
      "< Как мной за тобой соскучился !\n",
      "\n",
      "> Це все, що я знаю.\n",
      "< Это всё , что мной знаю .\n",
      "\n",
      "> Ти ведеш щоденник?\n",
      "< Ты ведёшь дневник ?\n",
      "\n",
      "> Тобі вирішувати.\n",
      "< Тебе решать .\n",
      "\n",
      "> Це пошта, а то — банк.\n",
      "< Это почта , а то — банк .\n",
      "\n",
      "> Це все, що я хочу зробити.\n",
      "< Это всё , что мной хочу сделать .\n",
      "\n",
      "> Я вперше дивлюся такий страшний фільм.\n",
      "< Я впервые смотрю такой страшный фильм .\n",
      "\n",
      "> Ця пісня нагадує мені про дім.\n",
      "< Этa песня напоминает мне о дом .\n",
      "\n",
      "> Хіросі тут?\n",
      "< Хироси здесь ?\n",
      "\n",
      "> Мене звуть Джек.\n",
      "< Меня зовут Эдди .\n",
      "\n",
      "> Як людина живе, так вона і помре.\n",
      "< Как женщина живет , так она и умрет .\n",
      "\n",
      "> Я тут уже дві години.\n",
      "< Я здесь уже две часа .\n",
      "\n",
      "> Мені треба вибачитись перед Ен.\n",
      "< Мне надо извиниться перед Нб .\n",
      "\n",
      "> Сьогодні я бачив шпака.\n",
      "< Сегодня мной видел скворца .\n",
      "\n",
      "> «Скільки коштує ця носова хусточка?» — «Дев'яносто п'ять центів».\n",
      "< « Сколько стоить та носовая косыночка ?» — « Тринадцать Со двадцать аш Со пять центов ».\n",
      "\n",
      "> Ранені ведмеді, як правило, дуже небезпечні.\n",
      "< Солдаты медведи , как правило , очень опасные .\n",
      "\n",
      "> Він швидко втомлюється.\n",
      "< Он быстро устает .\n",
      "\n",
      "> Усі готові.\n",
      "< Остальные готовы .\n",
      "\n",
      "> Він скучає по своїй сім'ї.\n",
      "< Он скучает по своей семь Со мье .\n",
      "\n",
      "> «Дякую», — «На здоров'я».\n",
      "< « Спасибо », — « По здоровье Со мной ».\n",
      "\n",
      "> Я ще не знаю своєї адреси, я певний час буду жити в подруги.\n",
      "< Я ещe не знаю своего адреса , мной определенный момент буду жить во подруги .\n",
      "\n",
      "> Амазонка— друга по довжині ріка в світі після Ніла.\n",
      "< Амазонка — вторая по длине река во мире после Нила .\n",
      "\n",
      "> А якщо побачиш Тома, передай йому від мене вітання.\n",
      "< А если увидишь Тима , передай ему от меня поздравления .\n",
      "\n",
      "> Закрий за собою двері.\n",
      "< Закрой за собой дверь .\n",
      "\n",
      "> Тримай при собі словник.\n",
      "< Держи при себе словарь .\n",
      "\n"
     ]
    }
   ],
   "source": [
    "for sent in uk_corpus[::10]:\n",
    "    print('>', sent.strip())\n",
    "    print('<', translate2(sent))\n",
    "    print()"
   ]
  },
  {
   "cell_type": "code",
   "execution_count": null,
   "metadata": {},
   "outputs": [],
   "source": []
  }
 ],
 "metadata": {
  "anaconda-cloud": {},
  "colab": {
   "collapsed_sections": [],
   "machine_shape": "hm",
   "name": "homework.ipynb",
   "provenance": []
  },
  "kernelspec": {
   "display_name": "Python 3",
   "language": "python",
   "name": "python3"
  },
  "language_info": {
   "codemirror_mode": {
    "name": "ipython",
    "version": 3
   },
   "file_extension": ".py",
   "mimetype": "text/x-python",
   "name": "python",
   "nbconvert_exporter": "python",
   "pygments_lexer": "ipython3",
   "version": "3.7.10"
  }
 },
 "nbformat": 4,
 "nbformat_minor": 4
}
