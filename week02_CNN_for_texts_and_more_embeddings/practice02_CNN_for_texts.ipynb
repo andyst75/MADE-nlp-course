{
 "cells": [
  {
   "cell_type": "markdown",
   "metadata": {
    "id": "13pL--6rycN3"
   },
   "source": [
    "# Practice 02: Dealing with texts using CNN\n",
    "\n",
    "Today we're gonna apply the newly learned tools for the task of predicting job salary.\n",
    "\n",
    "<img src=\"https://storage.googleapis.com/kaggle-competitions/kaggle/3342/logos/front_page.png\" width=400px>\n",
    "\n",
    "Based on YSDA [materials](https://github.com/yandexdataschool/nlp_course/blob/master/week02_classification/seminar.ipynb). _Special thanks to [Oleg Vasilev](https://github.com/Omrigan/) for the core assignment idea._"
   ]
  },
  {
   "cell_type": "code",
   "execution_count": 1,
   "metadata": {
    "id": "P8zS7m-gycN5"
   },
   "outputs": [],
   "source": [
    "import matplotlib.pyplot as plt\n",
    "%matplotlib inline\n",
    "import numpy as np\n",
    "import pandas as pd"
   ]
  },
  {
   "cell_type": "markdown",
   "metadata": {
    "id": "34x92vWQycN_"
   },
   "source": [
    "## About the challenge\n",
    "For starters, let's download and unpack the data from [here](https://www.dropbox.com/s/5msc5ix7ndyba10/Train_rev1.csv.tar.gz?dl=0). \n",
    "\n",
    "You can also get it from [yadisk url](https://yadi.sk/d/vVEOWPFY3NruT7) on the competition [page](https://www.kaggle.com/c/job-salary-prediction/data) (pick `Train_rev1.*`)."
   ]
  },
  {
   "cell_type": "code",
   "execution_count": 2,
   "metadata": {
    "colab": {
     "base_uri": "https://localhost:8080/"
    },
    "id": "vwN72gd4ycOA",
    "outputId": "732c0c1a-87dd-4c89-e929-99bbff304321"
   },
   "outputs": [
    {
     "name": "stdout",
     "output_type": "stream",
     "text": [
      "  % Total    % Received % Xferd  Average Speed   Time    Time     Time  Current\n",
      "                                 Dload  Upload   Total   Spent    Left  Speed\n",
      "100   145    0   145    0     0    198      0 --:--:-- --:--:-- --:--:--   198\n",
      "100   320  100   320    0     0    222      0  0:00:01  0:00:01 --:--:--  312k\n",
      "100  119M  100  119M    0     0  5809k      0  0:00:21  0:00:21 --:--:-- 7401k\n",
      "Train_rev1.csv\n"
     ]
    }
   ],
   "source": [
    "# Do this only once:\n",
    "!curl -L \"https://www.dropbox.com/s/5msc5ix7ndyba10/Train_rev1.csv.tar.gz?dl=1\" \\\n",
    "      -o Train_rev1.csv.tar.gz\n",
    "!tar -xvzf ./Train_rev1.csv.tar.gz"
   ]
  },
  {
   "cell_type": "code",
   "execution_count": 3,
   "metadata": {
    "colab": {
     "base_uri": "https://localhost:8080/"
    },
    "id": "39aNIiVbRJim",
    "outputId": "1ef3a14c-521f-42b3-91cc-729bcb6cca8e"
   },
   "outputs": [
    {
     "data": {
      "text/plain": [
       "(244768, 12)"
      ]
     },
     "execution_count": 3,
     "metadata": {},
     "output_type": "execute_result"
    }
   ],
   "source": [
    "data = pd.read_csv(\"./Train_rev1.csv\", index_col=None)\n",
    "data.shape"
   ]
  },
  {
   "cell_type": "markdown",
   "metadata": {
    "id": "z7kznuJfycOH"
   },
   "source": [
    "One problem with salary prediction is that it's oddly distributed: there are many people who are paid standard salaries and a few that get tons o money. The distribution is fat-tailed on the right side, which is inconvenient for MSE minimization.\n",
    "\n",
    "There are several techniques to combat this: using a different loss function, predicting log-target instead of raw target or even replacing targets with their percentiles among all salaries in the training set. We will use logarithm for now.\n",
    "\n",
    "_You can read more [in the official description](https://www.kaggle.com/c/job-salary-prediction#description)._"
   ]
  },
  {
   "cell_type": "code",
   "execution_count": 4,
   "metadata": {
    "colab": {
     "base_uri": "https://localhost:8080/",
     "height": 265
    },
    "id": "UuuKIKfrycOH",
    "outputId": "b9c9891e-a178-4104-bb27-613bbceb89a7"
   },
   "outputs": [
    {
     "data": {
      "image/png": "[encoded data removed]",
      "text/plain": [
       "<Figure size 576x288 with 2 Axes>"
      ]
     },
     "metadata": {
      "needs_background": "light"
     },
     "output_type": "display_data"
    }
   ],
   "source": [
    "data[\"Log1pSalary\"] = np.log1p(data[\"SalaryNormalized\"]).astype(\"float32\")\n",
    "\n",
    "plt.figure(figsize=(8, 4))\n",
    "plt.subplot(1, 2, 1)\n",
    "plt.hist(data[\"SalaryNormalized\"], bins=20);\n",
    "\n",
    "plt.subplot(1, 2, 2)\n",
    "plt.hist(data[\"Log1pSalary\"], bins=20);"
   ]
  },
  {
   "cell_type": "markdown",
   "metadata": {
    "id": "Fcu-qmHRycOK"
   },
   "source": [
    "Our task is to predict one number, __Log1pSalary__.\n",
    "\n",
    "To do so, our model can access a number of features:\n",
    "* free text: __`Title`__ and  __`FullDescription`__;\n",
    "* categorical: __`Category`__, __`Company`__, __`LocationNormalized`__, __`ContractType`__, and __`ContractTime`__."
   ]
  },
  {
   "cell_type": "code",
   "execution_count": 5,
   "metadata": {
    "colab": {
     "base_uri": "https://localhost:8080/",
     "height": 290
    },
    "id": "p9vyA_erycOK",
    "outputId": "11494165-dabe-48c0-9770-f7894a0debd4"
   },
   "outputs": [
    {
     "data": {
      "text/html": [
       "<div>\n",
       "<style scoped>\n",
       "    .dataframe tbody tr th:only-of-type {\n",
       "        vertical-align: middle;\n",
       "    }\n",
       "\n",
       "    .dataframe tbody tr th {\n",
       "        vertical-align: top;\n",
       "    }\n",
       "\n",
       "    .dataframe thead th {\n",
       "        text-align: right;\n",
       "    }\n",
       "</style>\n",
       "<table border=\"1\" class=\"dataframe\">\n",
       "  <thead>\n",
       "    <tr style=\"text-align: right;\">\n",
       "      <th></th>\n",
       "      <th>Id</th>\n",
       "      <th>Title</th>\n",
       "      <th>FullDescription</th>\n",
       "      <th>LocationRaw</th>\n",
       "      <th>LocationNormalized</th>\n",
       "      <th>ContractType</th>\n",
       "      <th>ContractTime</th>\n",
       "      <th>Company</th>\n",
       "      <th>Category</th>\n",
       "      <th>SalaryRaw</th>\n",
       "      <th>SalaryNormalized</th>\n",
       "      <th>SourceName</th>\n",
       "      <th>Log1pSalary</th>\n",
       "    </tr>\n",
       "  </thead>\n",
       "  <tbody>\n",
       "    <tr>\n",
       "      <th>92060</th>\n",
       "      <td>69172773</td>\n",
       "      <td>Accounts Assistant</td>\n",
       "      <td>Position: Accounts Assistant Location: North M...</td>\n",
       "      <td>Manchester Lancashire North West</td>\n",
       "      <td>UK</td>\n",
       "      <td>NaN</td>\n",
       "      <td>permanent</td>\n",
       "      <td>Platinum Financial Recruitment</td>\n",
       "      <td>Admin Jobs</td>\n",
       "      <td>13000 - 15000 per annum</td>\n",
       "      <td>14000</td>\n",
       "      <td>totaljobs.com</td>\n",
       "      <td>9.546884</td>\n",
       "    </tr>\n",
       "    <tr>\n",
       "      <th>5591</th>\n",
       "      <td>62012427</td>\n",
       "      <td>Customer Service Sales Representatives</td>\n",
       "      <td>We need **** applicants to fill some roles in ...</td>\n",
       "      <td>Coventry</td>\n",
       "      <td>Coventry</td>\n",
       "      <td>NaN</td>\n",
       "      <td>NaN</td>\n",
       "      <td>Simply Recruit Ltd</td>\n",
       "      <td>Customer Services Jobs</td>\n",
       "      <td>300-500 Per Week Average Earnings</td>\n",
       "      <td>19200</td>\n",
       "      <td>MyUkJobs</td>\n",
       "      <td>9.862718</td>\n",
       "    </tr>\n",
       "    <tr>\n",
       "      <th>74907</th>\n",
       "      <td>69001390</td>\n",
       "      <td>Sales Admin</td>\n",
       "      <td>Premier Work Support is currently recruiting f...</td>\n",
       "      <td>North London, London</td>\n",
       "      <td>North London</td>\n",
       "      <td>NaN</td>\n",
       "      <td>contract</td>\n",
       "      <td>Premier Work Support</td>\n",
       "      <td>Sales Jobs</td>\n",
       "      <td>6 - 7/hour</td>\n",
       "      <td>12480</td>\n",
       "      <td>cv-library.co.uk</td>\n",
       "      <td>9.431963</td>\n",
       "    </tr>\n",
       "  </tbody>\n",
       "</table>\n",
       "</div>"
      ],
      "text/plain": [
       "             Id                                   Title  \\\n",
       "92060  69172773                      Accounts Assistant   \n",
       "5591   62012427  Customer Service Sales Representatives   \n",
       "74907  69001390                             Sales Admin   \n",
       "\n",
       "                                         FullDescription  \\\n",
       "92060  Position: Accounts Assistant Location: North M...   \n",
       "5591   We need **** applicants to fill some roles in ...   \n",
       "74907  Premier Work Support is currently recruiting f...   \n",
       "\n",
       "                            LocationRaw LocationNormalized ContractType  \\\n",
       "92060  Manchester Lancashire North West                 UK          NaN   \n",
       "5591                           Coventry           Coventry          NaN   \n",
       "74907              North London, London       North London          NaN   \n",
       "\n",
       "      ContractTime                         Company                Category  \\\n",
       "92060    permanent  Platinum Financial Recruitment              Admin Jobs   \n",
       "5591           NaN              Simply Recruit Ltd  Customer Services Jobs   \n",
       "74907     contract            Premier Work Support              Sales Jobs   \n",
       "\n",
       "                               SalaryRaw  SalaryNormalized        SourceName  \\\n",
       "92060            13000 - 15000 per annum             14000     totaljobs.com   \n",
       "5591   300-500 Per Week Average Earnings             19200          MyUkJobs   \n",
       "74907                         6 - 7/hour             12480  cv-library.co.uk   \n",
       "\n",
       "       Log1pSalary  \n",
       "92060     9.546884  \n",
       "5591      9.862718  \n",
       "74907     9.431963  "
      ]
     },
     "execution_count": 5,
     "metadata": {},
     "output_type": "execute_result"
    }
   ],
   "source": [
    "text_columns = [\"Title\", \"FullDescription\"]\n",
    "categorical_columns = [\"Category\", \"Company\", \"LocationNormalized\",\n",
    "                       \"ContractType\", \"ContractTime\"]\n",
    "target_column = \"Log1pSalary\"\n",
    "\n",
    "# Cast missing values to string \"NaN\":\n",
    "data[categorical_columns] = data[categorical_columns].fillna(\"NaN\")\n",
    "\n",
    "data.sample(3)"
   ]
  },
  {
   "cell_type": "markdown",
   "metadata": {
    "id": "IUdclucmycON"
   },
   "source": [
    "## Preprocessing text data\n",
    "\n",
    "Just like last week, applying NLP to a problem begins from tokenization: splitting raw text into sequences of tokens (words, punctuation, etc).\n",
    "\n",
    "__Your task__ is to lowercase and tokenize all texts under `Title` and `FullDescription` columns. Store the tokenized data as a __space-separated__ string of tokens for performance reasons.\n",
    "\n",
    "It's okay to use `nltk` tokenizers. Assertions were designed for `WordPunctTokenizer`, slight deviations are okay."
   ]
  },
  {
   "cell_type": "code",
   "execution_count": 6,
   "metadata": {
    "colab": {
     "base_uri": "https://localhost:8080/"
    },
    "id": "YzeOxD_aycOO",
    "outputId": "29221013-701c-4eb6-8aab-6ff3cb0ae75f"
   },
   "outputs": [
    {
     "name": "stdout",
     "output_type": "stream",
     "text": [
      "Raw text:\n",
      "2         Mathematical Modeller / Simulation Analyst / O...\n",
      "100002    A successful and high achieving specialist sch...\n",
      "200002    Web Designer  HTML, CSS, JavaScript, Photoshop...\n",
      "Name: FullDescription, dtype: object\n"
     ]
    }
   ],
   "source": [
    "print(\"Raw text:\")\n",
    "print(data[\"FullDescription\"][2::100000])"
   ]
  },
  {
   "cell_type": "code",
   "execution_count": 7,
   "metadata": {
    "id": "RUWkpd7PycOQ"
   },
   "outputs": [],
   "source": [
    "import nltk\n",
    "\n",
    "tokenizer = nltk.tokenize.WordPunctTokenizer()\n",
    "\n",
    "# See the task above.\n",
    "def normalize(text):\n",
    "    text = str(text).lower()\n",
    "    tokens = tokenizer.tokenize(text)\n",
    "    return ' '.join(tokens)\n",
    "\n",
    "data[text_columns] = data[text_columns].applymap(normalize)"
   ]
  },
  {
   "cell_type": "markdown",
   "metadata": {
    "id": "o3pQdHihycOT"
   },
   "source": [
    "Now we can assume that our text is a space-separated list of tokens:"
   ]
  },
  {
   "cell_type": "code",
   "execution_count": 8,
   "metadata": {
    "colab": {
     "base_uri": "https://localhost:8080/"
    },
    "id": "Gs-6lnS_ycOU",
    "outputId": "20679b8d-7391-4ddc-b959-1780f6441d82"
   },
   "outputs": [
    {
     "name": "stdout",
     "output_type": "stream",
     "text": [
      "Tokenized:\n",
      "2         mathematical modeller / simulation analyst / o...\n",
      "100002    a successful and high achieving specialist sch...\n",
      "200002    web designer html , css , javascript , photosh...\n",
      "Name: FullDescription, dtype: object\n"
     ]
    }
   ],
   "source": [
    "print(\"Tokenized:\")\n",
    "print(data[\"FullDescription\"][2::100000])\n",
    "assert data[\"FullDescription\"][2][:50] == \\\n",
    "    \"mathematical modeller / simulation analyst / opera\"\n",
    "assert data[\"Title\"][54321] == \\\n",
    "    \"international digital account manager ( german )\""
   ]
  },
  {
   "cell_type": "markdown",
   "metadata": {
    "id": "ouE3L2hyycOX"
   },
   "source": [
    "Not all words are equally useful. Some of them are typos or rare words that are only present a few times. \n",
    "\n",
    "Let's count how many times is each word present in the data so that we can build a \"white list\" of known words."
   ]
  },
  {
   "cell_type": "code",
   "execution_count": 9,
   "metadata": {
    "id": "iC7hBwwjycOX"
   },
   "outputs": [],
   "source": [
    "# Count how many times does each token occur in both\n",
    "# \"Title\" and \"FullDescription\" in total.\n",
    "# Build a dictionary { token -> it's count }.\n",
    "from collections import Counter\n",
    "from tqdm import tqdm as tqdm\n",
    "\n",
    "token_counts = Counter()\n",
    "for row in data[text_columns].values.flatten():\n",
    "    token_counts.update(row.split(' '))"
   ]
  },
  {
   "cell_type": "code",
   "execution_count": 10,
   "metadata": {
    "colab": {
     "base_uri": "https://localhost:8080/"
    },
    "id": "GiOWbc15ycOb",
    "outputId": "657733d7-3de0-44e2-a1e0-ac71b753cfad"
   },
   "outputs": [
    {
     "name": "stdout",
     "output_type": "stream",
     "text": [
      "Total unique tokens: 202704\n",
      "('and', 2657388)\n",
      "('.', 2523216)\n",
      "(',', 2318606)\n",
      "('the', 2080994)\n",
      "('to', 2019884)\n",
      "...\n",
      "('stephanietraveltraderecruitmnt', 1)\n",
      "('ruabon', 1)\n",
      "('lowehays', 1)\n",
      "Correct!\n"
     ]
    }
   ],
   "source": [
    "print(\"Total unique tokens:\", len(token_counts))\n",
    "print('\\n'.join(map(str, token_counts.most_common(n=5))))\n",
    "print(\"...\")\n",
    "print('\\n'.join(map(str, token_counts.most_common()[-3:])))\n",
    "\n",
    "assert token_counts.most_common(1)[0][1] in  range(2600000, 2700000)\n",
    "assert len(token_counts) in range(200000, 210000)\n",
    "print(\"Correct!\")"
   ]
  },
  {
   "cell_type": "code",
   "execution_count": 11,
   "metadata": {
    "colab": {
     "base_uri": "https://localhost:8080/",
     "height": 279
    },
    "id": "nd5v3BNfycOf",
    "outputId": "90ef92d7-ee69-4b0f-b9e8-8b9286420526"
   },
   "outputs": [
    {
     "data": {
      "image/png": "[encoded data removed]",
      "text/plain": [
       "<Figure size 432x288 with 1 Axes>"
      ]
     },
     "metadata": {
      "needs_background": "light"
     },
     "output_type": "display_data"
    }
   ],
   "source": [
    "# Let's see how many words are there for each count\n",
    "plt.hist(list(token_counts.values()), range=[0, 10 ** 4], bins=50, log=True)\n",
    "plt.xlabel(\"Word counts\");"
   ]
  },
  {
   "cell_type": "markdown",
   "metadata": {
    "id": "znuXxeghycOh"
   },
   "source": [
    "Now filter tokens to a list of all tokens that occur at least 10 times."
   ]
  },
  {
   "cell_type": "code",
   "execution_count": 12,
   "metadata": {
    "id": "SeNFBWx5ycOh"
   },
   "outputs": [],
   "source": [
    "min_count = 10\n",
    "\n",
    "# Tokens from token_counts keys that had at least\n",
    "# min_count occurrences throughout the dataset:\n",
    "tokens = [token for token, count in token_counts.items() if count >= min_count]"
   ]
  },
  {
   "cell_type": "code",
   "execution_count": 13,
   "metadata": {
    "colab": {
     "base_uri": "https://localhost:8080/"
    },
    "id": "RATIRyPKycOk",
    "outputId": "a6093d05-954e-4fb2-ba6c-7fb35b9836ad"
   },
   "outputs": [
    {
     "name": "stdout",
     "output_type": "stream",
     "text": [
      "Vocabulary size: 34158\n",
      "Correct!\n"
     ]
    }
   ],
   "source": [
    "# Add a special tokens for unknown and empty words:\n",
    "UNK, PAD = \"UNK\", \"PAD\"\n",
    "tokens = [UNK, PAD] + sorted(tokens)\n",
    "print(\"Vocabulary size:\", len(tokens))\n",
    "\n",
    "assert type(tokens) == list\n",
    "assert len(tokens) in range(32000, 35000)\n",
    "assert \"me\" in tokens\n",
    "assert UNK in tokens\n",
    "print(\"Correct!\")"
   ]
  },
  {
   "cell_type": "markdown",
   "metadata": {
    "id": "cqEsgbjZycOo"
   },
   "source": [
    "Build an inverse token index: a dictionary from token (string) to it's index in `tokens` (int)."
   ]
  },
  {
   "cell_type": "code",
   "execution_count": 14,
   "metadata": {
    "id": "L60lo1l_ycOq"
   },
   "outputs": [],
   "source": [
    "token_to_id = {\n",
    "    token: index\n",
    "    for index, token in enumerate(tokens)\n",
    "}"
   ]
  },
  {
   "cell_type": "code",
   "execution_count": 15,
   "metadata": {
    "colab": {
     "base_uri": "https://localhost:8080/"
    },
    "id": "DeAoVo4mycOr",
    "outputId": "3e2ee253-9e29-43fc-c8fa-b20f30660f1e"
   },
   "outputs": [
    {
     "name": "stdout",
     "output_type": "stream",
     "text": [
      "Correct!\n"
     ]
    }
   ],
   "source": [
    "assert isinstance(token_to_id, dict)\n",
    "assert len(token_to_id) == len(tokens)\n",
    "for token in tokens:\n",
    "    assert tokens[token_to_id[token]] == token\n",
    "\n",
    "print(\"Correct!\")"
   ]
  },
  {
   "cell_type": "markdown",
   "metadata": {
    "id": "cmJAkq3gycOv"
   },
   "source": [
    "And finally, let's use the vocabulary we've built to map text lines into neural network-digestible matrices."
   ]
  },
  {
   "cell_type": "code",
   "execution_count": 16,
   "metadata": {
    "id": "JEsLeBjVycOw"
   },
   "outputs": [],
   "source": [
    "UNK_IX, PAD_IX = map(token_to_id.get, [UNK, PAD])\n",
    "\n",
    "def as_matrix(sequences, max_len=None):\n",
    "    \"\"\"Convert a list of tokens into a matrix with padding.\"\"\"\n",
    "    if isinstance(sequences[0], str):\n",
    "        sequences = list(map(str.split, sequences))\n",
    "\n",
    "    max_len = min(max(map(len, sequences)), max_len or float(\"inf\"))\n",
    "\n",
    "    matrix = np.full((len(sequences), max_len), np.int32(PAD_IX))\n",
    "    for i,seq in enumerate(sequences):\n",
    "        row_ix = [token_to_id.get(word, UNK_IX) for word in seq[:max_len]]\n",
    "        matrix[i, :len(row_ix)] = row_ix\n",
    "\n",
    "    return matrix"
   ]
  },
  {
   "cell_type": "code",
   "execution_count": 17,
   "metadata": {
    "colab": {
     "base_uri": "https://localhost:8080/"
    },
    "id": "JiBlPkdKycOy",
    "outputId": "bef55d19-6f14-449b-c1e3-b6682e246e73"
   },
   "outputs": [
    {
     "name": "stdout",
     "output_type": "stream",
     "text": [
      "Lines:\n",
      "engineering systems analyst\n",
      "hr assistant\n",
      "senior ec & i engineer\n",
      "\n",
      "Matrix:\n",
      "[[10807 30161  2166     1     1]\n",
      " [15020  2844     1     1     1]\n",
      " [27645 10201    16 15215 10804]]\n"
     ]
    }
   ],
   "source": [
    "print(\"Lines:\")\n",
    "print('\\n'.join(data[\"Title\"][::100000].values), end=\"\\n\\n\")\n",
    "print(\"Matrix:\")\n",
    "print(as_matrix(data[\"Title\"][::100000]))"
   ]
  },
  {
   "cell_type": "markdown",
   "metadata": {
    "id": "nGOdZ3-dycO4"
   },
   "source": [
    "Now let's  encode the categorical data we have.\n",
    "\n",
    "As usual, we shall use one-hot encoding for simplicity. Kudos if you implement more advanced encodings: tf-idf, pseudo-time-series, etc."
   ]
  },
  {
   "cell_type": "code",
   "execution_count": 18,
   "metadata": {
    "colab": {
     "base_uri": "https://localhost:8080/"
    },
    "id": "DpOlBp7ZycO6",
    "outputId": "65e43843-ee37-42d5-9950-166d0f979a73"
   },
   "outputs": [
    {
     "data": {
      "text/plain": [
       "DictVectorizer(dtype=<class 'numpy.float32'>, sparse=False)"
      ]
     },
     "execution_count": 18,
     "metadata": {},
     "output_type": "execute_result"
    }
   ],
   "source": [
    "from sklearn.feature_extraction import DictVectorizer\n",
    "\n",
    "# We only consider top-1k most frequent companies to minimize memory usage:\n",
    "top_companies, top_counts = zip(*Counter(data[\"Company\"]).most_common(1000))\n",
    "recognized_companies = set(top_companies)\n",
    "data[\"Company\"] = data[\"Company\"].apply(\n",
    "    lambda comp: comp if comp in recognized_companies else \"Other\"\n",
    ")\n",
    "\n",
    "categorical_vectorizer = DictVectorizer(dtype=np.float32, sparse=False)\n",
    "categorical_vectorizer.fit(data[categorical_columns].apply(dict, axis=1))"
   ]
  },
  {
   "cell_type": "markdown",
   "metadata": {
    "id": "yk4jmtAYycO8"
   },
   "source": [
    "## The Deep Learning part\n",
    "\n",
    "Once we've learned how to tokenize the data, let's design a machine learning experiment.\n",
    "\n",
    "As before, we won't focus too much on validation, opting for a simple train-test split.\n",
    "\n",
    "__To be completely rigorous,__ we've comitted a small crime here: we used the whole data for tokenization and vocabulary building. A more strict way would be to do that part on training set only. You may want to do that and measure the magnitude of changes."
   ]
  },
  {
   "cell_type": "code",
   "execution_count": 19,
   "metadata": {
    "colab": {
     "base_uri": "https://localhost:8080/"
    },
    "id": "TngLcWA0ycO_",
    "outputId": "81922f4b-36b9-41a2-ea33-fc84a2b98081"
   },
   "outputs": [
    {
     "name": "stdout",
     "output_type": "stream",
     "text": [
      "Train size: 195814\n",
      "Validation size: 48954\n"
     ]
    }
   ],
   "source": [
    "from sklearn.model_selection import train_test_split\n",
    "\n",
    "data_train, data_val = train_test_split(data, test_size=0.2, random_state=42)\n",
    "data_train.index = range(len(data_train))\n",
    "data_val.index = range(len(data_val))\n",
    "\n",
    "print(\"Train size:\", len(data_train))\n",
    "print(\"Validation size:\", len(data_val))"
   ]
  },
  {
   "cell_type": "code",
   "execution_count": 20,
   "metadata": {
    "id": "2PXuKgOSycPB"
   },
   "outputs": [],
   "source": [
    "def make_batch(data, max_len=None, word_dropout=0):\n",
    "    \"\"\"\n",
    "    Creates a neural-network-friendly dict from the batch data.\n",
    "    :param word_dropout: replaces token index with UNK_IX with this probability\n",
    "    :returns: a dict with {'title' : int64[batch, title_max_len]}\n",
    "    \"\"\"\n",
    "    batch = {}\n",
    "    batch[\"Title\"] = as_matrix(data[\"Title\"].values, max_len)\n",
    "    batch[\"FullDescription\"] = as_matrix(data[\"FullDescription\"].values,\n",
    "                                         max_len)\n",
    "    batch['Categorical'] = categorical_vectorizer.transform(\n",
    "        data[categorical_columns].apply(dict, axis=1)\n",
    "    )\n",
    "\n",
    "    if word_dropout != 0:\n",
    "        batch[\"FullDescription\"] = apply_word_dropout(batch[\"FullDescription\"],\n",
    "                                                      1. - word_dropout)\n",
    "\n",
    "    if target_column in data.columns:\n",
    "        batch[target_column] = data[target_column].values\n",
    "\n",
    "    return batch\n",
    "\n",
    "\n",
    "def apply_word_dropout(matrix, keep_prop, replace_with=UNK_IX, pad_ix=PAD_IX,):\n",
    "    dropout_mask = np.random.choice(2, np.shape(matrix),\n",
    "                                    p=[keep_prop, 1 - keep_prop])\n",
    "    dropout_mask &= matrix != pad_ix\n",
    "    return np.choose(dropout_mask, [matrix, np.full_like(matrix, replace_with)])"
   ]
  },
  {
   "cell_type": "code",
   "execution_count": 21,
   "metadata": {
    "id": "I6LpEQf0ycPD"
   },
   "outputs": [],
   "source": [
    "a = make_batch(data_train[:3], max_len=10)"
   ]
  },
  {
   "cell_type": "markdown",
   "metadata": {
    "id": "0eI5h9UMycPF"
   },
   "source": [
    "### Architecture\n",
    "\n",
    "Our main model consists of three branches:\n",
    "* Title encoder\n",
    "* Description encoder\n",
    "* Categorical features encoder\n",
    "\n",
    "We will then feed all 3 branches into one common network that predicts salary.\n",
    "\n",
    "<img src=\"https://github.com/yandexdataschool/nlp_course/raw/master/resources/w2_conv_arch.png\" width=600px>\n",
    "\n",
    "This clearly doesn't fit into PyTorch __Sequential__ interface. To build such a network, one will have to use [__PyTorch nn.Module API__](https://pytorch.org/docs/stable/nn.html#torch.nn.Module)."
   ]
  },
  {
   "cell_type": "markdown",
   "metadata": {
    "id": "pmoUUz6ARJiw"
   },
   "source": [
    "But to start with let's build the simple model using only the part of the data. Let's create the baseline solution using only the description part (so it should definetely fit into the Sequential model)."
   ]
  },
  {
   "cell_type": "code",
   "execution_count": 22,
   "metadata": {
    "id": "PBwYKnnpRJiw"
   },
   "outputs": [],
   "source": [
    "import torch\n",
    "from torch import nn\n",
    "import torch.nn.functional as F"
   ]
  },
  {
   "cell_type": "code",
   "execution_count": 23,
   "metadata": {
    "id": "ztyjBXN6RJiw"
   },
   "outputs": [],
   "source": [
    "# We will need these to make it simple:\n",
    "\n",
    "class Flatten(nn.Module):\n",
    "    def forward(self, input):\n",
    "        return input.view(input.size(0), -1)\n",
    "\n",
    "class Reorder(nn.Module):\n",
    "    def forward(self, input):\n",
    "        return input.permute((0, 2, 1))"
   ]
  },
  {
   "cell_type": "markdown",
   "metadata": {
    "id": "HIAAc1AXRJiw"
   },
   "source": [
    "To generate minibatches we will use a simple Python generator:"
   ]
  },
  {
   "cell_type": "code",
   "execution_count": 24,
   "metadata": {
    "id": "PzExHeftRJiw"
   },
   "outputs": [],
   "source": [
    "def iterate_minibatches(data, batch_size=256, shuffle=True, cycle=False,\n",
    "                        **kwargs):\n",
    "    \"\"\"Iterate over minibatches of data in random order.\"\"\"\n",
    "    while True:\n",
    "        indices = np.arange(len(data))\n",
    "        if shuffle:\n",
    "            indices = np.random.permutation(indices)\n",
    "\n",
    "        for start in range(0, len(indices), batch_size):\n",
    "            batch = make_batch(data.iloc[indices[start : start + batch_size]],\n",
    "                               **kwargs)\n",
    "            target = batch.pop(target_column)\n",
    "            yield batch, target\n",
    "\n",
    "        if not cycle:\n",
    "            break"
   ]
  },
  {
   "cell_type": "code",
   "execution_count": 25,
   "metadata": {
    "id": "Ni7r-s7hRJiw"
   },
   "outputs": [],
   "source": [
    "iterator = iterate_minibatches(data_train, 3)\n",
    "batch, target = next(iterator)"
   ]
  },
  {
   "cell_type": "code",
   "execution_count": 26,
   "metadata": {
    "id": "Eei7FUikddJT"
   },
   "outputs": [],
   "source": [
    "# Here is some startup code:\r\n",
    "n_tokens = len(tokens)\r\n",
    "n_cat_features = len(categorical_vectorizer.vocabulary_)\r\n",
    "hid_size = 64"
   ]
  },
  {
   "cell_type": "code",
   "execution_count": 27,
   "metadata": {
    "id": "u-ICT1rkRJix"
   },
   "outputs": [],
   "source": [
    "simple_model = nn.Sequential()\n",
    "\n",
    "simple_model.add_module(\"emb\", nn.Embedding(num_embeddings=n_tokens,\n",
    "                                            embedding_dim=hid_size))\n",
    "simple_model.add_module(\"reorder\", Reorder())\n",
    "simple_model.add_module(\"conv1\", nn.Conv1d(in_channels=hid_size,\n",
    "                                           out_channels=hid_size * 2,\n",
    "                                           kernel_size=3))\n",
    "simple_model.add_module(\"relu1\", nn.ReLU())\n",
    "simple_model.add_module(\"bn1\", nn.BatchNorm1d(num_features=hid_size * 2))\n",
    "simple_model.add_module(\"conv2\", nn.Conv1d(in_channels=hid_size * 2,\n",
    "                                           out_channels=hid_size * 4,\n",
    "                                           kernel_size=3))\n",
    "simple_model.add_module(\"relu2\", nn.ReLU())\n",
    "simple_model.add_module(\"bn2\", nn.BatchNorm1d(num_features=hid_size * 4))\n",
    "simple_model.add_module(\"conv3\", nn.Conv1d(in_channels=hid_size * 4,\n",
    "                                           out_channels=hid_size * 8,\n",
    "                                           kernel_size=2))\n",
    "simple_model.add_module(\"adaptive_pool\", nn.AdaptiveMaxPool1d(1))\n",
    "simple_model.add_module(\"flatten\", nn.Flatten())\n",
    "simple_model.add_module(\"out\", nn.Linear(8 * hid_size, 1))"
   ]
  },
  {
   "cell_type": "markdown",
   "metadata": {
    "id": "8J6t8GBNRJix"
   },
   "source": [
    "__Remember!__ We are working with regression problem and predicting only one number."
   ]
  },
  {
   "cell_type": "code",
   "execution_count": 28,
   "metadata": {
    "colab": {
     "base_uri": "https://localhost:8080/"
    },
    "id": "nlEjaQt8RJix",
    "outputId": "eeef1ef3-88d1-4279-c547-c73c41d78f34"
   },
   "outputs": [
    {
     "data": {
      "text/plain": [
       "torch.Size([3, 1])"
      ]
     },
     "execution_count": 28,
     "metadata": {},
     "output_type": "execute_result"
    }
   ],
   "source": [
    "# Try this to check your model.\n",
    "# `torch.long` tensors are required for nn.Embedding layers.\n",
    "simple_model(torch.tensor(batch[\"FullDescription\"], dtype=torch.long)).shape"
   ]
  },
  {
   "cell_type": "markdown",
   "metadata": {
    "id": "vYf9NFdXRJix"
   },
   "source": [
    "And now a simple training pipeline:"
   ]
  },
  {
   "cell_type": "code",
   "execution_count": 29,
   "metadata": {
    "colab": {
     "base_uri": "https://localhost:8080/"
    },
    "id": "RUyKTKsPgu9p",
    "outputId": "28d6eb38-acfa-490c-acf5-8d0c78922451"
   },
   "outputs": [
    {
     "name": "stdout",
     "output_type": "stream",
     "text": [
      "cuda\n"
     ]
    }
   ],
   "source": [
    "device = torch.device(\"cuda\" if torch.cuda.is_available() else \"cpu\")\r\n",
    "print(device)"
   ]
  },
  {
   "cell_type": "code",
   "execution_count": 30,
   "metadata": {
    "colab": {
     "base_uri": "https://localhost:8080/",
     "height": 268
    },
    "id": "HVzuiX6CRJix",
    "outputId": "65abf0fd-0eff-465a-dd5f-91ce50da55ac"
   },
   "outputs": [
    {
     "data": {
      "image/png": "[encoded data removed]",
      "text/plain": [
       "<Figure size 432x288 with 1 Axes>"
      ]
     },
     "metadata": {
      "needs_background": "light"
     },
     "output_type": "display_data"
    }
   ],
   "source": [
    "from IPython.display import clear_output\n",
    "from random import sample\n",
    "\n",
    "epochs = 1\n",
    "\n",
    "model = simple_model.to(device)\n",
    "opt = torch.optim.Adam(model.parameters())\n",
    "loss_func = nn.MSELoss()\n",
    "\n",
    "history = []\n",
    "for epoch_num in range(epochs):\n",
    "    for idx, (batch, target) in enumerate(iterate_minibatches(data_train)):\n",
    "        opt.zero_grad()\n",
    "\n",
    "        # Preprocessing the batch data and target:\n",
    "        batch = torch.tensor(batch[\"FullDescription\"],\n",
    "                             dtype=torch.long).to(device)\n",
    "        target = torch.tensor(target).to(device)\n",
    "\n",
    "        predictions = model(batch)\n",
    "        predictions = predictions.view(predictions.size(0))\n",
    "\n",
    "        loss = loss_func(predictions, target)\n",
    "\n",
    "        # Train with backprop:\n",
    "        loss.backward()\n",
    "        opt.step()\n",
    "\n",
    "        history.append(loss.item())\n",
    "        if (idx + 1) % 10 == 0:\n",
    "            clear_output(True)\n",
    "            plt.plot(history, label=\"loss\")\n",
    "            plt.legend()\n",
    "            plt.show()"
   ]
  },
  {
   "cell_type": "markdown",
   "metadata": {
    "id": "xljrKb4yRJix"
   },
   "source": [
    "To evaluate the model it should be switched to `eval` state."
   ]
  },
  {
   "cell_type": "code",
   "execution_count": 31,
   "metadata": {
    "colab": {
     "base_uri": "https://localhost:8080/"
    },
    "id": "mLsEXaIKRJix",
    "outputId": "7fb03815-08a3-4698-9a38-a640c1f0cf4e"
   },
   "outputs": [
    {
     "data": {
      "text/plain": [
       "Sequential(\n",
       "  (emb): Embedding(34158, 64)\n",
       "  (reorder): Reorder()\n",
       "  (conv1): Conv1d(64, 128, kernel_size=(3,), stride=(1,))\n",
       "  (relu1): ReLU()\n",
       "  (bn1): BatchNorm1d(128, eps=1e-05, momentum=0.1, affine=True, track_running_stats=True)\n",
       "  (conv2): Conv1d(128, 256, kernel_size=(3,), stride=(1,))\n",
       "  (relu2): ReLU()\n",
       "  (bn2): BatchNorm1d(256, eps=1e-05, momentum=0.1, affine=True, track_running_stats=True)\n",
       "  (conv3): Conv1d(256, 512, kernel_size=(2,), stride=(1,))\n",
       "  (adaptive_pool): AdaptiveMaxPool1d(output_size=1)\n",
       "  (flatten): Flatten(start_dim=1, end_dim=-1)\n",
       "  (out): Linear(in_features=512, out_features=1, bias=True)\n",
       ")"
      ]
     },
     "execution_count": 31,
     "metadata": {},
     "output_type": "execute_result"
    }
   ],
   "source": [
    "simple_model.eval()"
   ]
  },
  {
   "cell_type": "markdown",
   "metadata": {
    "id": "wS5zRKFWRJix"
   },
   "source": [
    "Let's check the model quality."
   ]
  },
  {
   "cell_type": "code",
   "execution_count": 32,
   "metadata": {
    "id": "T9XIwJaFkqfO"
   },
   "outputs": [],
   "source": [
    "from tqdm import tqdm, tqdm_notebook\r\n",
    "\r\n",
    "batch_size = 256\r\n",
    "\r\n",
    "def print_metrics(model, data, batch_size=batch_size, name=\"\", **kw):\r\n",
    "    squared_error = abs_error = num_samples = 0.0\r\n",
    "    for batch_x, batch_y in tqdm(iterate_minibatches(data,\r\n",
    "                                                     batch_size=batch_size,\r\n",
    "                                                     shuffle=False, **kw)):\r\n",
    "        batch = torch.tensor(batch_x[\"FullDescription\"],\r\n",
    "                             dtype=torch.long).to(device)\r\n",
    "        batch_pred = model(batch)[:, 0].detach().cpu().numpy()\r\n",
    "        squared_error += np.sum(np.square(batch_pred - batch_y))\r\n",
    "        abs_error += np.sum(np.abs(batch_pred - batch_y))\r\n",
    "        num_samples += len(batch_y)\r\n",
    "    print(\"%s results:\" % (name or \"\"))\r\n",
    "    print(\"Mean square error: %.5f\" % (squared_error / num_samples))\r\n",
    "    print(\"Mean absolute error: %.5f\" % (abs_error / num_samples))\r\n",
    "    return squared_error, abs_error"
   ]
  },
  {
   "cell_type": "code",
   "execution_count": 33,
   "metadata": {
    "colab": {
     "base_uri": "https://localhost:8080/"
    },
    "id": "RpYSmHBhRJiy",
    "outputId": "dedc01c9-de5b-4a20-fb7b-80e4fa217578"
   },
   "outputs": [
    {
     "name": "stderr",
     "output_type": "stream",
     "text": [
      "765it [00:52, 14.57it/s]\n",
      "2it [00:00, 11.86it/s]"
     ]
    },
    {
     "name": "stdout",
     "output_type": "stream",
     "text": [
      "Train results:\n",
      "Mean square error: 0.16786\n",
      "Mean absolute error: 0.31273\n"
     ]
    },
    {
     "name": "stderr",
     "output_type": "stream",
     "text": [
      "192it [00:13, 14.48it/s]"
     ]
    },
    {
     "name": "stdout",
     "output_type": "stream",
     "text": [
      "Val results:\n",
      "Mean square error: 0.17298\n",
      "Mean absolute error: 0.31769\n"
     ]
    },
    {
     "name": "stderr",
     "output_type": "stream",
     "text": [
      "\n"
     ]
    }
   ],
   "source": [
    "print_metrics(simple_model, data_train, name=\"Train\")\n",
    "print_metrics(simple_model, data_val, name=\"Val\");"
   ]
  },
  {
   "cell_type": "markdown",
   "metadata": {
    "id": "uFddHFftRJiy"
   },
   "source": [
    "## Bonus area: three-headed network\n",
    "\n",
    "Now you can try to implement the network we've discussed above. Use [__PyTorch nn.Module API__](https://pytorch.org/docs/stable/nn.html#torch.nn.Module)."
   ]
  },
  {
   "cell_type": "code",
   "execution_count": 34,
   "metadata": {
    "id": "3rX2bWKVRJiy"
   },
   "outputs": [],
   "source": [
    "class ThreeInputsNet(nn.Module):\n",
    "    def __init__(self, n_tokens=len(tokens),\n",
    "                 n_cat_features=len(categorical_vectorizer.vocabulary_),\n",
    "                 hid_size=64):\n",
    "        super(ThreeInputsNet, self).__init__()\n",
    "\n",
    "        # Title head:\n",
    "        self.title_emb = nn.Embedding(num_embeddings=n_tokens,\n",
    "                                      embedding_dim=hid_size)\n",
    "        self.title_conv1 = nn.Conv1d(in_channels=hid_size,\n",
    "                                     out_channels=hid_size,\n",
    "                                     kernel_size=2)\n",
    "        self.title_relu1 = nn.ReLU()\n",
    "        self.title_bn1 = nn.BatchNorm1d(num_features=hid_size)\n",
    "        self.title_conv2 = nn.Conv1d(in_channels=hid_size,\n",
    "                                     out_channels=hid_size,\n",
    "                                     kernel_size=2)\n",
    "        self.title_pool = nn.AdaptiveMaxPool1d(1)\n",
    "        self.title_flatten = nn.Flatten()\n",
    "        self.title_out = nn.Linear(hid_size, 1)\n",
    "\n",
    "        # Description head:\n",
    "        self.full_emb = nn.Embedding(num_embeddings=n_tokens,\n",
    "                                     embedding_dim=hid_size)\n",
    "        self.full_conv1 = nn.Conv1d(in_channels=hid_size,\n",
    "                                    out_channels=hid_size * 2,\n",
    "                                    kernel_size=3)\n",
    "        self.full_relu1 = nn.ReLU()\n",
    "        self.full_bn1 = nn.BatchNorm1d(num_features=hid_size * 2)\n",
    "        self.full_conv2 = nn.Conv1d(in_channels=hid_size * 2,\n",
    "                                    out_channels=hid_size * 4,\n",
    "                                    kernel_size=3)\n",
    "        self.full_relu2 = nn.ReLU()\n",
    "        self.full_bn2 = nn.BatchNorm1d(num_features=hid_size * 4)\n",
    "        self.full_conv3 = nn.Conv1d(in_channels=hid_size * 4,\n",
    "                                    out_channels=hid_size * 8,\n",
    "                                    kernel_size=2)\n",
    "        self.full_pool = nn.AdaptiveMaxPool1d(1)\n",
    "        self.full_flatten = nn.Flatten()\n",
    "        self.full_out = nn.Linear(8 * hid_size, 1)\n",
    "\n",
    "        # Categorical head:\n",
    "        self.category_out = nn.Linear(n_cat_features, 1)\n",
    "\n",
    "        # Final layer:\n",
    "        self.out = nn.Linear(3, 1)\n",
    "\n",
    "    def forward(self, whole_input):\n",
    "        input1, input2, input3 = whole_input\n",
    "        title_beg = self.title_emb(input1).permute((0, 2, 1))\n",
    "        title = self.title_conv1(title_beg)\n",
    "        title = self.title_relu1(title)\n",
    "        title = self.title_bn1(title)\n",
    "        title = self.title_conv2(title)\n",
    "        title = self.title_pool(title)\n",
    "        title = self.title_flatten(title)\n",
    "        title = self.title_out(title)\n",
    "\n",
    "        full_beg = self.full_emb(input2).permute((0, 2, 1))\n",
    "        full = self.full_conv1(full_beg)\n",
    "        full = self.full_relu1(full)\n",
    "        full = self.full_bn1(full)\n",
    "        full = self.full_conv2(full)\n",
    "        full = self.full_relu2(full)\n",
    "        full = self.full_bn2(full)\n",
    "        full = self.full_conv3(full)\n",
    "        full = self.full_pool(full)\n",
    "        full = self.full_flatten(full)\n",
    "        full = self.full_out(full)\n",
    "\n",
    "        category = self.category_out(input3)\n",
    "\n",
    "        concatenated = torch.cat([\n",
    "            title.view(title.size(0), -1),\n",
    "            full.view(full.size(0), -1),\n",
    "            category.view(category.size(0), -1)\n",
    "        ], dim=1)\n",
    "\n",
    "        out = self.out(concatenated)\n",
    "\n",
    "        return out"
   ]
  },
  {
   "cell_type": "code",
   "execution_count": 35,
   "metadata": {
    "colab": {
     "base_uri": "https://localhost:8080/",
     "height": 265
    },
    "id": "yZwCX-oCkU9f",
    "outputId": "18740d47-7c33-4df0-8c63-2fa71eb91a6c"
   },
   "outputs": [
    {
     "data": {
      "image/png": "[encoded data removed]",
      "text/plain": [
       "<Figure size 432x288 with 1 Axes>"
      ]
     },
     "metadata": {
      "needs_background": "light"
     },
     "output_type": "display_data"
    }
   ],
   "source": [
    "from IPython.display import clear_output\r\n",
    "from random import sample\r\n",
    "\r\n",
    "epochs = 1\r\n",
    "\r\n",
    "model = ThreeInputsNet().to(device)\r\n",
    "opt = torch.optim.Adam(model.parameters())\r\n",
    "loss_func = nn.MSELoss()\r\n",
    "\r\n",
    "history = []\r\n",
    "for epoch_num in range(epochs):\r\n",
    "    for idx, (batch, target) in enumerate(iterate_minibatches(data_train)):\r\n",
    "        opt.zero_grad()\r\n",
    "\r\n",
    "        # Preprocessing the batch data and target:\r\n",
    "        batch = (\r\n",
    "            torch.tensor(batch[\"Title\"], dtype=torch.long).to(device),\r\n",
    "            torch.tensor(batch[\"FullDescription\"], dtype=torch.long).to(device),\r\n",
    "            torch.tensor(batch[\"Categorical\"], dtype=torch.float32).to(device),\r\n",
    "        )\r\n",
    "        target = torch.tensor(target).to(device)\r\n",
    "\r\n",
    "        predictions = model(batch)\r\n",
    "        predictions = predictions.view(predictions.size(0))\r\n",
    "\r\n",
    "        loss = loss_func(predictions, target)\r\n",
    "\r\n",
    "        # Train with backprop:\r\n",
    "        loss.backward()\r\n",
    "        opt.step()\r\n",
    "\r\n",
    "        history.append(loss.item())\r\n",
    "        if (idx + 1) % 10 == 0:\r\n",
    "            clear_output(True)\r\n",
    "            plt.plot(history, label=\"loss\")\r\n",
    "            plt.legend()\r\n",
    "            plt.show()"
   ]
  },
  {
   "cell_type": "code",
   "execution_count": 36,
   "metadata": {
    "colab": {
     "base_uri": "https://localhost:8080/"
    },
    "id": "VtiF1XRHkbYb",
    "outputId": "23b0d2c0-d755-447c-db08-fe6436160194"
   },
   "outputs": [
    {
     "data": {
      "text/plain": [
       "ThreeInputsNet(\n",
       "  (title_emb): Embedding(34158, 64)\n",
       "  (title_conv1): Conv1d(64, 64, kernel_size=(2,), stride=(1,))\n",
       "  (title_relu1): ReLU()\n",
       "  (title_bn1): BatchNorm1d(64, eps=1e-05, momentum=0.1, affine=True, track_running_stats=True)\n",
       "  (title_conv2): Conv1d(64, 64, kernel_size=(2,), stride=(1,))\n",
       "  (title_pool): AdaptiveMaxPool1d(output_size=1)\n",
       "  (title_flatten): Flatten(start_dim=1, end_dim=-1)\n",
       "  (title_out): Linear(in_features=64, out_features=1, bias=True)\n",
       "  (full_emb): Embedding(34158, 64)\n",
       "  (full_conv1): Conv1d(64, 128, kernel_size=(3,), stride=(1,))\n",
       "  (full_relu1): ReLU()\n",
       "  (full_bn1): BatchNorm1d(128, eps=1e-05, momentum=0.1, affine=True, track_running_stats=True)\n",
       "  (full_conv2): Conv1d(128, 256, kernel_size=(3,), stride=(1,))\n",
       "  (full_relu2): ReLU()\n",
       "  (full_bn2): BatchNorm1d(256, eps=1e-05, momentum=0.1, affine=True, track_running_stats=True)\n",
       "  (full_conv3): Conv1d(256, 512, kernel_size=(2,), stride=(1,))\n",
       "  (full_pool): AdaptiveMaxPool1d(output_size=1)\n",
       "  (full_flatten): Flatten(start_dim=1, end_dim=-1)\n",
       "  (full_out): Linear(in_features=512, out_features=1, bias=True)\n",
       "  (category_out): Linear(in_features=3768, out_features=1, bias=True)\n",
       "  (out): Linear(in_features=3, out_features=1, bias=True)\n",
       ")"
      ]
     },
     "execution_count": 36,
     "metadata": {},
     "output_type": "execute_result"
    }
   ],
   "source": [
    "model.eval()"
   ]
  },
  {
   "cell_type": "code",
   "execution_count": 37,
   "metadata": {
    "id": "UKSbnIHJovrA"
   },
   "outputs": [],
   "source": [
    "from tqdm import tqdm, tqdm_notebook\r\n",
    "\r\n",
    "batch_size = 256\r\n",
    "\r\n",
    "def print_metrics(model, data, batch_size=batch_size, name=\"\", **kw):\r\n",
    "    squared_error = abs_error = num_samples = 0.0\r\n",
    "    for batch_x, batch_y in tqdm(iterate_minibatches(data,\r\n",
    "                                                     batch_size=batch_size,\r\n",
    "                                                     shuffle=False, **kw)):\r\n",
    "        batch = (\r\n",
    "            torch.tensor(batch_x[\"Title\"],\r\n",
    "                         dtype=torch.long).to(device),\r\n",
    "            torch.tensor(batch_x[\"FullDescription\"],\r\n",
    "                         dtype=torch.long).to(device),\r\n",
    "            torch.tensor(batch_x[\"Categorical\"],\r\n",
    "                         dtype=torch.float32).to(device),\r\n",
    "        )\r\n",
    "        batch_pred = model(batch)[:, 0].detach().cpu().numpy()\r\n",
    "        squared_error += np.sum(np.square(batch_pred - batch_y))\r\n",
    "        abs_error += np.sum(np.abs(batch_pred - batch_y))\r\n",
    "        num_samples += len(batch_y)\r\n",
    "    print(\"%s results:\" % (name or \"\"))\r\n",
    "    print(\"Mean square error: %.5f\" % (squared_error / num_samples))\r\n",
    "    print(\"Mean absolute error: %.5f\" % (abs_error / num_samples))\r\n",
    "    return squared_error, abs_error"
   ]
  },
  {
   "cell_type": "code",
   "execution_count": 38,
   "metadata": {
    "colab": {
     "base_uri": "https://localhost:8080/"
    },
    "id": "ZjbMKjA0kewb",
    "outputId": "84cdea36-4200-407e-e6d1-a9a8fd7f76d4"
   },
   "outputs": [
    {
     "name": "stderr",
     "output_type": "stream",
     "text": [
      "765it [00:53, 14.18it/s]\n",
      "2it [00:00, 11.62it/s]"
     ]
    },
    {
     "name": "stdout",
     "output_type": "stream",
     "text": [
      "Train results:\n",
      "Mean square error: 0.26870\n",
      "Mean absolute error: 0.42361\n"
     ]
    },
    {
     "name": "stderr",
     "output_type": "stream",
     "text": [
      "192it [00:13, 14.23it/s]"
     ]
    },
    {
     "name": "stdout",
     "output_type": "stream",
     "text": [
      "Val results:\n",
      "Mean square error: 0.27083\n",
      "Mean absolute error: 0.42414\n"
     ]
    },
    {
     "name": "stderr",
     "output_type": "stream",
     "text": [
      "\n"
     ]
    }
   ],
   "source": [
    "print_metrics(model, data_train, name=\"Train\")\r\n",
    "print_metrics(model, data_val, name=\"Val\");"
   ]
  },
  {
   "cell_type": "markdown",
   "metadata": {
    "id": "XdFLY-r2RJiy"
   },
   "source": [
    "## Bonus area 2: comparing RNN to CNN\n",
    "Try implementing simple RNN (or LSTM) and applying it to this task. Compare the quality/performance of these networks. \n",
    "\n",
    "*Hint: try to build networks with ~same number of paremeters.*"
   ]
  },
  {
   "cell_type": "code",
   "execution_count": 39,
   "metadata": {
    "id": "GLfqDkSZrDC9"
   },
   "outputs": [],
   "source": [
    "# <YOUR CODE HERE>"
   ]
  },
  {
   "cell_type": "markdown",
   "metadata": {
    "id": "hEFuF8XnRJiy"
   },
   "source": [
    "## Bonus area 3: fixing the data leaks\n",
    "Fix the data leak we ignored in the beginning of the __Deep Learning part__. Compare results with and without data leaks using same architectures and training time.\n"
   ]
  },
  {
   "cell_type": "code",
   "execution_count": 40,
   "metadata": {
    "id": "dSoDVKXtRJiy"
   },
   "outputs": [],
   "source": [
    "# <YOUR CODE HERE>"
   ]
  },
  {
   "cell_type": "markdown",
   "metadata": {
    "id": "wLjGTjqHRJiy"
   },
   "source": [
    "__Terrible start-up idea #1962:__ make a tool that automaticaly rephrases your job description (or CV) to meet salary expectations. :)"
   ]
  }
 ],
 "metadata": {
  "accelerator": "GPU",
  "colab": {
   "collapsed_sections": [],
   "name": "nlp_week04_practice_CNN_for_texts.ipynb",
   "provenance": [],
   "toc_visible": true
  },
  "kernelspec": {
   "display_name": "Python 3",
   "language": "python",
   "name": "python3"
  },
  "language_info": {
   "codemirror_mode": {
    "name": "ipython",
    "version": 3
   },
   "file_extension": ".py",
   "mimetype": "text/x-python",
   "name": "python",
   "nbconvert_exporter": "python",
   "pygments_lexer": "ipython3",
   "version": "3.7.10"
  }
 },
 "nbformat": 4,
 "nbformat_minor": 4
}
